{
 "cells": [
  {
   "cell_type": "markdown",
   "metadata": {},
   "source": [
    "# NumPy DataTypes"
   ]
  },
  {
   "cell_type": "code",
   "execution_count": 1,
   "metadata": {},
   "outputs": [],
   "source": [
    "import numpy as np"
   ]
  },
  {
   "cell_type": "markdown",
   "metadata": {},
   "source": [
    "### 1. With the help of the <i> np.array() </i>function, create a 1-D array variable <i> array_hw_1 </i> with the numbers from 1 to 8 and display it on the screen."
   ]
  },
  {
   "cell_type": "code",
   "execution_count": 2,
   "metadata": {},
   "outputs": [
    {
     "data": {
      "text/plain": [
       "array([1, 2, 3, 4, 5, 6, 7, 8])"
      ]
     },
     "execution_count": 2,
     "metadata": {},
     "output_type": "execute_result"
    }
   ],
   "source": [
    "array_hw_1 = np.array([1, 2, 3, 4, 5, 6, 7 ,8])\n",
    "array_hw_1"
   ]
  },
  {
   "cell_type": "markdown",
   "metadata": {},
   "source": [
    "### 2.Check its type, shape and size. \n",
    "<i> (<b>Hint </b>: \"type\" is a Python function, while \"shape\" and \"size\" are attributes of the array) </i>"
   ]
  },
  {
   "cell_type": "code",
   "execution_count": 3,
   "metadata": {
    "scrolled": true
   },
   "outputs": [
    {
     "data": {
      "text/plain": [
       "numpy.ndarray"
      ]
     },
     "execution_count": 3,
     "metadata": {},
     "output_type": "execute_result"
    }
   ],
   "source": [
    "type(array_hw_1)"
   ]
  },
  {
   "cell_type": "code",
   "execution_count": 4,
   "metadata": {},
   "outputs": [
    {
     "data": {
      "text/plain": [
       "(8,)"
      ]
     },
     "execution_count": 4,
     "metadata": {},
     "output_type": "execute_result"
    }
   ],
   "source": [
    "array_hw_1.shape"
   ]
  },
  {
   "cell_type": "code",
   "execution_count": 9,
   "metadata": {},
   "outputs": [
    {
     "data": {
      "text/plain": [
       "8"
      ]
     },
     "execution_count": 9,
     "metadata": {},
     "output_type": "execute_result"
    }
   ],
   "source": [
    "array_hw_1.size"
   ]
  },
  {
   "cell_type": "markdown",
   "metadata": {},
   "source": [
    "### 3. Now, create a 2x4 2-D array, <i> array_hw_2</i> with the same values & display it on screen. "
   ]
  },
  {
   "cell_type": "code",
   "execution_count": 8,
   "metadata": {},
   "outputs": [
    {
     "data": {
      "text/plain": [
       "array([[1, 2, 3, 4],\n",
       "       [5, 6, 7, 8]])"
      ]
     },
     "execution_count": 8,
     "metadata": {},
     "output_type": "execute_result"
    }
   ],
   "source": [
    "array_hw_2 = np.array([[1, 2, 3, 4], [5, 6, 7, 8]])\n",
    "array_hw_2"
   ]
  },
  {
   "cell_type": "markdown",
   "metadata": {},
   "source": [
    "### 4. Find its type, shape, and size. "
   ]
  },
  {
   "cell_type": "code",
   "execution_count": 10,
   "metadata": {},
   "outputs": [
    {
     "data": {
      "text/plain": [
       "numpy.ndarray"
      ]
     },
     "execution_count": 10,
     "metadata": {},
     "output_type": "execute_result"
    }
   ],
   "source": [
    "type(array_hw_2)"
   ]
  },
  {
   "cell_type": "code",
   "execution_count": 11,
   "metadata": {},
   "outputs": [
    {
     "data": {
      "text/plain": [
       "(2, 4)"
      ]
     },
     "execution_count": 11,
     "metadata": {},
     "output_type": "execute_result"
    }
   ],
   "source": [
    "array_hw_2.shape"
   ]
  },
  {
   "cell_type": "code",
   "execution_count": 12,
   "metadata": {},
   "outputs": [
    {
     "data": {
      "text/plain": [
       "8"
      ]
     },
     "execution_count": 12,
     "metadata": {},
     "output_type": "execute_result"
    }
   ],
   "source": [
    "array_hw_2.size"
   ]
  },
  {
   "cell_type": "markdown",
   "metadata": {},
   "source": [
    "### 5. Use square brackets to create a 3-D array with the same values as <i> array_hw_2 </i> and display it on screen."
   ]
  },
  {
   "cell_type": "code",
   "execution_count": 13,
   "metadata": {},
   "outputs": [
    {
     "data": {
      "text/plain": [
       "array([[[1, 2, 3, 4],\n",
       "        [5, 6, 7, 8]]])"
      ]
     },
     "execution_count": 13,
     "metadata": {},
     "output_type": "execute_result"
    }
   ],
   "source": [
    "array_hw_3 = np.array([[[1, 2, 3, 4], [5, 6, 7, 8]]])\n",
    "array_hw_3"
   ]
  },
  {
   "cell_type": "markdown",
   "metadata": {},
   "source": [
    "### 6. Find its type, shape and size. \n"
   ]
  },
  {
   "cell_type": "code",
   "execution_count": 14,
   "metadata": {},
   "outputs": [
    {
     "data": {
      "text/plain": [
       "numpy.ndarray"
      ]
     },
     "execution_count": 14,
     "metadata": {},
     "output_type": "execute_result"
    }
   ],
   "source": [
    "type(array_hw_3)"
   ]
  },
  {
   "cell_type": "code",
   "execution_count": 16,
   "metadata": {},
   "outputs": [
    {
     "data": {
      "text/plain": [
       "(1, 2, 4)"
      ]
     },
     "execution_count": 16,
     "metadata": {},
     "output_type": "execute_result"
    }
   ],
   "source": [
    "array_hw_3.shape"
   ]
  },
  {
   "cell_type": "code",
   "execution_count": 17,
   "metadata": {},
   "outputs": [
    {
     "data": {
      "text/plain": [
       "8"
      ]
     },
     "execution_count": 17,
     "metadata": {},
     "output_type": "execute_result"
    }
   ],
   "source": [
    "array_hw_3.size"
   ]
  },
  {
   "cell_type": "markdown",
   "metadata": {},
   "source": [
    "### 7. Define a 2-D list <i> list_hw_1 </i> with the same values as <i> array_hw_2 </i>and display it on screen."
   ]
  },
  {
   "cell_type": "code",
   "execution_count": 18,
   "metadata": {},
   "outputs": [
    {
     "data": {
      "text/plain": [
       "[[1, 2, 3, 4], [5, 6, 7, 8]]"
      ]
     },
     "execution_count": 18,
     "metadata": {},
     "output_type": "execute_result"
    }
   ],
   "source": [
    "list_hw_1 = ([[1, 2, 3, 4], [5, 6, 7, 8]])\n",
    "list_hw_1"
   ]
  },
  {
   "cell_type": "markdown",
   "metadata": {},
   "source": [
    "### 8. Find the length of this 2-D list. "
   ]
  },
  {
   "cell_type": "code",
   "execution_count": 19,
   "metadata": {},
   "outputs": [
    {
     "data": {
      "text/plain": [
       "2"
      ]
     },
     "execution_count": 19,
     "metadata": {},
     "output_type": "execute_result"
    }
   ],
   "source": [
    "len(list_hw_1)"
   ]
  },
  {
   "cell_type": "markdown",
   "metadata": {},
   "source": [
    "### 9. Fint the length of one of its sublists. "
   ]
  },
  {
   "cell_type": "code",
   "execution_count": 20,
   "metadata": {},
   "outputs": [
    {
     "data": {
      "text/plain": [
       "4"
      ]
     },
     "execution_count": 20,
     "metadata": {},
     "output_type": "execute_result"
    }
   ],
   "source": [
    "len(list_hw_1[0])"
   ]
  },
  {
   "cell_type": "markdown",
   "metadata": {},
   "source": [
    "### 10. Verify its type. "
   ]
  },
  {
   "cell_type": "code",
   "execution_count": 21,
   "metadata": {},
   "outputs": [
    {
     "data": {
      "text/plain": [
       "list"
      ]
     },
     "execution_count": 21,
     "metadata": {},
     "output_type": "execute_result"
    }
   ],
   "source": [
    "type(list_hw_1)"
   ]
  },
  {
   "cell_type": "markdown",
   "metadata": {},
   "source": [
    "### 11. Use the <i>np.array()</i> function to create an array out of <i> list_hw_1</i> and display it on screen."
   ]
  },
  {
   "cell_type": "code",
   "execution_count": 24,
   "metadata": {},
   "outputs": [
    {
     "data": {
      "text/plain": [
       "array([[1, 2, 3, 4],\n",
       "       [5, 6, 7, 8]])"
      ]
     },
     "execution_count": 24,
     "metadata": {},
     "output_type": "execute_result"
    }
   ],
   "source": [
    "array_hw_4 = np.array(list_hw_1)\n",
    "array_hw_4"
   ]
  },
  {
   "cell_type": "markdown",
   "metadata": {},
   "source": [
    "### 12. Create two more variables and display them on screen:\n",
    "    A) A list which is the sum of the two sublists of list_hw_1;\n",
    "    B) An array which is the sum of the two subarrays of array_hw_4;\n",
    "    \n",
    "    (Hint: Use indexing to refer to the different sub-lists/arrays)"
   ]
  },
  {
   "cell_type": "code",
   "execution_count": 27,
   "metadata": {},
   "outputs": [
    {
     "data": {
      "text/plain": [
       "[1, 2, 3, 4, 5, 6, 7, 8]"
      ]
     },
     "execution_count": 27,
     "metadata": {},
     "output_type": "execute_result"
    }
   ],
   "source": [
    "list_sum = list_hw_1[0] + list_hw_1[1]\n",
    "list_sum"
   ]
  },
  {
   "cell_type": "code",
   "execution_count": 28,
   "metadata": {},
   "outputs": [
    {
     "data": {
      "text/plain": [
       "array([ 6,  8, 10, 12])"
      ]
     },
     "execution_count": 28,
     "metadata": {},
     "output_type": "execute_result"
    }
   ],
   "source": [
    "array_sum = array_hw_4[0] + array_hw_4[1]\n",
    "array_sum"
   ]
  },
  {
   "cell_type": "markdown",
   "metadata": {},
   "source": [
    "### 13. Find the square roots of all the elements in <i> array_sum </i>\n",
    "   <i> (<b>Hint</b>: Use the np.sqrt() function)"
   ]
  },
  {
   "cell_type": "code",
   "execution_count": 29,
   "metadata": {},
   "outputs": [
    {
     "data": {
      "text/plain": [
       "array([2.44948974, 2.82842712, 3.16227766, 3.46410162])"
      ]
     },
     "execution_count": 29,
     "metadata": {},
     "output_type": "execute_result"
    }
   ],
   "source": [
    "np.sqrt(array_sum)"
   ]
  },
  {
   "cell_type": "markdown",
   "metadata": {},
   "source": [
    "### 13. Find the square roots of all the elements in <i> list_sum </i>\n",
    "   <i> (<b>Hint</b>: Most NumPy functions are equipped to handle <b> lists </b>like ndarrays with the same shape)"
   ]
  },
  {
   "cell_type": "code",
   "execution_count": 30,
   "metadata": {
    "scrolled": true
   },
   "outputs": [
    {
     "data": {
      "text/plain": [
       "array([1.        , 1.41421356, 1.73205081, 2.        , 2.23606798,\n",
       "       2.44948974, 2.64575131, 2.82842712])"
      ]
     },
     "execution_count": 30,
     "metadata": {},
     "output_type": "execute_result"
    }
   ],
   "source": [
    "np.sqrt(list_sum)"
   ]
  },
  {
   "cell_type": "markdown",
   "metadata": {},
   "source": [
    "### 14. Use <i> np.genfromtxt() </i> to import the <i> \"Lending-Company-Total-Price.csv\" </i> file as strings and display its contents.\n",
    "    You can open the file in a text editor like Notepad++ to check its delimiter. "
   ]
  },
  {
   "cell_type": "code",
   "execution_count": 33,
   "metadata": {},
   "outputs": [
    {
     "data": {
      "text/plain": [
       "array([['LoanID', 'StringID', 'Product', ..., 'Location', 'Region',\n",
       "        'TotalPrice'],\n",
       "       ['1', 'id_1', 'Product B', ..., 'Location 2', 'Region 2', '16600'],\n",
       "       ['2', 'id_2', 'Product B', ..., 'Location 3', '', '16600'],\n",
       "       ...,\n",
       "       ['413', 'id_413', 'Product B', ..., 'Location 135', 'Region 1',\n",
       "        '16600'],\n",
       "       ['414', 'id_414', 'Product C', ..., 'Location 200', 'Region 6',\n",
       "        '15600'],\n",
       "       ['415', 'id_415', 'Product A', ..., 'Location 8', 'Region 2',\n",
       "        '22250']], dtype='<U14')"
      ]
     },
     "execution_count": 33,
     "metadata": {},
     "output_type": "execute_result"
    }
   ],
   "source": [
    "lending_co = np.genfromtxt('Lending-Company-Total-Price.csv', \n",
    "                           delimiter=\",\",\n",
    "                           dtype=np.str_)\n",
    "lending_co"
   ]
  },
  {
   "cell_type": "markdown",
   "metadata": {},
   "source": [
    "### 15. Use the <i> skip_header </i> and <i> usecols </i> parameters to only take the numerical data from the file. Then, let's see how the inputs change if we alter the datatype argument to:\n",
    "\n",
    "    A) The default (not specify it)\n",
    "    B) 32-bit integers (np.int32)\n",
    "    C) 32-bit floats (np.float32)\n",
    "    D) 64-bit complex numbers (np.complex64)\n",
    "    E) Unicode (np.unicode)\n",
    "    F) Objects (np.object)\n",
    "    G) None"
   ]
  },
  {
   "cell_type": "code",
   "execution_count": 39,
   "metadata": {},
   "outputs": [
    {
     "data": {
      "text/plain": [
       "array([[    1, 16600],\n",
       "       [    2, 16600],\n",
       "       [    3, 15600],\n",
       "       [    4, 16600],\n",
       "       [    5, 20250],\n",
       "       [    6,    -1],\n",
       "       [    7, 20250],\n",
       "       [    8, 16600],\n",
       "       [    9, 22250],\n",
       "       [   10, 20250],\n",
       "       [   11, 16600],\n",
       "       [   12, 20250],\n",
       "       [   13, 16600],\n",
       "       [   14, 20750],\n",
       "       [   15, 22250],\n",
       "       [   16, 16600],\n",
       "       [   17, 22250],\n",
       "       [   18, 16600],\n",
       "       [   19, 16600],\n",
       "       [   20, 54625],\n",
       "       [   21, 16600],\n",
       "       [   22, 22250],\n",
       "       [   23, 19250],\n",
       "       [   24, 15600],\n",
       "       [   25, 20250],\n",
       "       [   26, 22250],\n",
       "       [   27, 19250],\n",
       "       [   28, 69225],\n",
       "       [   29, 20250],\n",
       "       [   30, 16600],\n",
       "       [   31, 16600],\n",
       "       [   32, 16600],\n",
       "       [   33, 19250],\n",
       "       [   34, 16600],\n",
       "       [   35, 19250],\n",
       "       [   36, 16600],\n",
       "       [   37, 16600],\n",
       "       [   38, 16600],\n",
       "       [   39, 15600],\n",
       "       [   40, 16600],\n",
       "       [   41, 16600],\n",
       "       [   42, 16600],\n",
       "       [   43, 19250],\n",
       "       [   44, 15600],\n",
       "       [   45, 19250],\n",
       "       [   46, 16600],\n",
       "       [   47, 16600],\n",
       "       [   48, 16600],\n",
       "       [   49, 20250],\n",
       "       [   50, 22250],\n",
       "       [   51, 16600],\n",
       "       [   52, 20250],\n",
       "       [   53, 20250],\n",
       "       [   54, 16600],\n",
       "       [   55, 16600],\n",
       "       [   56, 16600],\n",
       "       [   57,    -1],\n",
       "       [   58, 16600],\n",
       "       [   59, 16600],\n",
       "       [   60, 16600],\n",
       "       [   61, 19250],\n",
       "       [   62, 15600],\n",
       "       [   63, 15600],\n",
       "       [   64, 20250],\n",
       "       [   65, 16600],\n",
       "       [   66, 22250],\n",
       "       [   67, 22250],\n",
       "       [   68, 20250],\n",
       "       [   69, 20250],\n",
       "       [   70, 16600],\n",
       "       [   71, 15600],\n",
       "       [   72, 16600],\n",
       "       [   73, 16600],\n",
       "       [   74, 22250],\n",
       "       [   75, 20750],\n",
       "       [   76, 22250],\n",
       "       [   77, 19250],\n",
       "       [   78, 20250],\n",
       "       [   79, 20250],\n",
       "       [   80, 20250],\n",
       "       [   81, 19250],\n",
       "       [   82, 16600],\n",
       "       [   83, 22250],\n",
       "       [   84, 20250],\n",
       "       [   85, 16600],\n",
       "       [   86, 19250],\n",
       "       [   87, 22250],\n",
       "       [   88, 16600],\n",
       "       [   89, 19250],\n",
       "       [   90, 16600],\n",
       "       [   91,    -1],\n",
       "       [   92, 20250],\n",
       "       [   93, 16600],\n",
       "       [   94, 16600],\n",
       "       [   95, 19250],\n",
       "       [   96, 16600],\n",
       "       [   97, 16600],\n",
       "       [   98, 22250],\n",
       "       [   99, 22250],\n",
       "       [  100, 16600],\n",
       "       [  101, 16600],\n",
       "       [  102, 19250],\n",
       "       [  103, 16600],\n",
       "       [  104, 22250],\n",
       "       [  105, 19250],\n",
       "       [  106, 16600],\n",
       "       [  107, 16600],\n",
       "       [  108, 19250],\n",
       "       [  109, 16600],\n",
       "       [  110, 22250],\n",
       "       [  111, 16600],\n",
       "       [  112, 15600],\n",
       "       [  113, 16600],\n",
       "       [  114, 20250],\n",
       "       [  115, 16600],\n",
       "       [  116, 19250],\n",
       "       [  117, 19250],\n",
       "       [  118, 19250],\n",
       "       [  119, 15600],\n",
       "       [  120, 22250],\n",
       "       [  121, 22250],\n",
       "       [  122, 16600],\n",
       "       [  123, 20250],\n",
       "       [  124, 16600],\n",
       "       [  125, 16600],\n",
       "       [  126, 20750],\n",
       "       [  127, 20250],\n",
       "       [  128, 16600],\n",
       "       [  129, 16600],\n",
       "       [  130, 16600],\n",
       "       [  131, 15600],\n",
       "       [  132, 16600],\n",
       "       [  133, 15600],\n",
       "       [  134, 19250],\n",
       "       [  135, 16600],\n",
       "       [  136, 16600],\n",
       "       [  137, 20250],\n",
       "       [  138, 19250],\n",
       "       [  139, 15600],\n",
       "       [  140, 16600],\n",
       "       [  141, 16600],\n",
       "       [  142, 16600],\n",
       "       [  143, 15600],\n",
       "       [  144, 16600],\n",
       "       [  145, 15600],\n",
       "       [  146, 19250],\n",
       "       [  147, 22250],\n",
       "       [  148, 20250],\n",
       "       [  149, 19250],\n",
       "       [  150, 22250],\n",
       "       [  151, 16600],\n",
       "       [  152, 22250],\n",
       "       [  153, 54625],\n",
       "       [  154, 54625],\n",
       "       [  155, 16600],\n",
       "       [  156, 22250],\n",
       "       [  157, 22250],\n",
       "       [  158, 22250],\n",
       "       [  159, 22250],\n",
       "       [  160, 15600],\n",
       "       [  161,    -1],\n",
       "       [  162, 16600],\n",
       "       [  163, 22250],\n",
       "       [  164, 20250],\n",
       "       [  165, 22250],\n",
       "       [  166, 16600],\n",
       "       [  167, 19250],\n",
       "       [  168, 20250],\n",
       "       [  169, 16600],\n",
       "       [  170, 20250],\n",
       "       [  171, 16600],\n",
       "       [  172, 16600],\n",
       "       [  173, 20250],\n",
       "       [  174, 20250],\n",
       "       [  175, 16600],\n",
       "       [  176, 20250],\n",
       "       [  177, 19250],\n",
       "       [  178, 16600],\n",
       "       [  179, 20750],\n",
       "       [  180, 20250],\n",
       "       [  181, 22250],\n",
       "       [  182, 16600],\n",
       "       [  183, 20250],\n",
       "       [  184, 20250],\n",
       "       [  185, 16600],\n",
       "       [  186, 20250],\n",
       "       [  187, 20750],\n",
       "       [  188, 16600],\n",
       "       [  189, 16600],\n",
       "       [  190, 22250],\n",
       "       [  191, 22250],\n",
       "       [  192, 22250],\n",
       "       [  193, 16600],\n",
       "       [  194, 54625],\n",
       "       [  195, 16600],\n",
       "       [  196, 22250],\n",
       "       [  197, 16600],\n",
       "       [  198, 20250],\n",
       "       [  199, 22250],\n",
       "       [  200, 15600],\n",
       "       [  201, 20250],\n",
       "       [  202, 16600],\n",
       "       [  203, 54625],\n",
       "       [  204, 16600],\n",
       "       [  205, 16600],\n",
       "       [  206, 22250],\n",
       "       [  207, 19250],\n",
       "       [  208, 19250],\n",
       "       [  209, 19250],\n",
       "       [  210, 22250],\n",
       "       [  211, 15600],\n",
       "       [  212, 22250],\n",
       "       [  213, 15600],\n",
       "       [  214, 16600],\n",
       "       [  215, 22250],\n",
       "       [  216, 22250],\n",
       "       [  217, 16600],\n",
       "       [  218, 20750],\n",
       "       [  219, 19250],\n",
       "       [  220, 16600],\n",
       "       [  221,    -1],\n",
       "       [  222, 16600],\n",
       "       [  223, 22250],\n",
       "       [  224, 19250],\n",
       "       [  225, 16600],\n",
       "       [  226, 16600],\n",
       "       [  227, 19250],\n",
       "       [  228, 19250],\n",
       "       [  229, 16600],\n",
       "       [  230, 20250],\n",
       "       [  231, 22250],\n",
       "       [  232, 15600],\n",
       "       [  233, 16600],\n",
       "       [  234, 16600],\n",
       "       [  235, 54625],\n",
       "       [  236, 19250],\n",
       "       [  237, 22250],\n",
       "       [  238, 16600],\n",
       "       [  239, 22250],\n",
       "       [  240, 19250],\n",
       "       [  241, 19250],\n",
       "       [  242, 20750],\n",
       "       [  243, 20750],\n",
       "       [  244, 16600],\n",
       "       [  245, 16600],\n",
       "       [  246, 22250],\n",
       "       [  247, 16600],\n",
       "       [  248, 16600],\n",
       "       [  249, 16600],\n",
       "       [  250, 16600],\n",
       "       [  251, 15600],\n",
       "       [  252, 19250],\n",
       "       [  253, 20250],\n",
       "       [  254, 22250],\n",
       "       [  255, 19250],\n",
       "       [  256, 22250],\n",
       "       [  257, 22250],\n",
       "       [  258, 22250],\n",
       "       [  259, 16600],\n",
       "       [  260, 20250],\n",
       "       [  261, 16600],\n",
       "       [  262, 16600],\n",
       "       [  263, 16600],\n",
       "       [  264, 19250],\n",
       "       [  265, 16600],\n",
       "       [  266, 16600],\n",
       "       [  267, 15600],\n",
       "       [  268, 16600],\n",
       "       [  269, 22250],\n",
       "       [  270, 19250],\n",
       "       [  271,    -1],\n",
       "       [  272, 22250],\n",
       "       [  273, 15600],\n",
       "       [  274, 15600],\n",
       "       [  275, 16600],\n",
       "       [  276, 19250],\n",
       "       [  277, 16600],\n",
       "       [  278, 54625],\n",
       "       [  279, 16600],\n",
       "       [  280, 16600],\n",
       "       [  281, 16600],\n",
       "       [  282, 19250],\n",
       "       [  283, 22250],\n",
       "       [  284, 22250],\n",
       "       [  285, 16600],\n",
       "       [  286, 19250],\n",
       "       [  287, 19250],\n",
       "       [  288, 15600],\n",
       "       [  289, 54625],\n",
       "       [  290, 16600],\n",
       "       [  291, 16600],\n",
       "       [  292, 15600],\n",
       "       [  293, 20250],\n",
       "       [  294, 19250],\n",
       "       [  295, 19250],\n",
       "       [  296, 15600],\n",
       "       [  297, 15600],\n",
       "       [  298, 19250],\n",
       "       [  299, 16600],\n",
       "       [  300, 20250],\n",
       "       [  301, 20750],\n",
       "       [  302, 16600],\n",
       "       [  303, 16600],\n",
       "       [  304, 16600],\n",
       "       [  305, 22250],\n",
       "       [  306, 16600],\n",
       "       [  307, 22250],\n",
       "       [  308, 20250],\n",
       "       [  309, 16600],\n",
       "       [  310, 19250],\n",
       "       [  311, 22250],\n",
       "       [  312, 16600],\n",
       "       [  313, 15600],\n",
       "       [  314, 16600],\n",
       "       [  315, 16600],\n",
       "       [  316, 15600],\n",
       "       [  317, 16600],\n",
       "       [  318, 20250],\n",
       "       [  319, 19250],\n",
       "       [  320, 20250],\n",
       "       [  321, 16600],\n",
       "       [  322, 22250],\n",
       "       [  323, 16600],\n",
       "       [  324, 22250],\n",
       "       [  325, 22250],\n",
       "       [  326, 19250],\n",
       "       [  327, 54625],\n",
       "       [  328, 13775],\n",
       "       [  329, 16600],\n",
       "       [  330, 16600],\n",
       "       [  331,    -1],\n",
       "       [  332, 20750],\n",
       "       [  333, 16600],\n",
       "       [  334, 19250],\n",
       "       [  335, 22250],\n",
       "       [  336, 20250],\n",
       "       [  337, 22250],\n",
       "       [  338, 19250],\n",
       "       [  339, 16600],\n",
       "       [  340, 15600],\n",
       "       [  341, 20250],\n",
       "       [  342, 22250],\n",
       "       [  343, 22250],\n",
       "       [  344, 16600],\n",
       "       [  345, 22250],\n",
       "       [  346, 20250],\n",
       "       [  347, 16600],\n",
       "       [  348, 22250],\n",
       "       [  349, 19250],\n",
       "       [  350, 16600],\n",
       "       [  351, 16600],\n",
       "       [  352, 15600],\n",
       "       [  353, 19250],\n",
       "       [  354, 16600],\n",
       "       [  355, 20250],\n",
       "       [  356, 16600],\n",
       "       [  357, 22250],\n",
       "       [  358, 16600],\n",
       "       [  359, 15600],\n",
       "       [  360, 20250],\n",
       "       [  361, 22250],\n",
       "       [  362, 20250],\n",
       "       [  363, 16600],\n",
       "       [  364, 22250],\n",
       "       [  365, 16600],\n",
       "       [  366, 16600],\n",
       "       [  367, 16600],\n",
       "       [  368, 20250],\n",
       "       [  369, 16600],\n",
       "       [  370, 16600],\n",
       "       [  371, 16600],\n",
       "       [  372, 19250],\n",
       "       [  373, 20250],\n",
       "       [  374, 16600],\n",
       "       [  375, 16600],\n",
       "       [  376, 22250],\n",
       "       [  377, 19250],\n",
       "       [  378, 22250],\n",
       "       [  379, 16600],\n",
       "       [  380, 19250],\n",
       "       [  381,    -1],\n",
       "       [  382, 20250],\n",
       "       [  383, 20750],\n",
       "       [  384, 16600],\n",
       "       [  385, 16600],\n",
       "       [  386, 16600],\n",
       "       [  387, 16600],\n",
       "       [  388, 20250],\n",
       "       [  389, 16600],\n",
       "       [  390, 22250],\n",
       "       [  391, 15600],\n",
       "       [  392, 16600],\n",
       "       [  393, 16600],\n",
       "       [  394, 15600],\n",
       "       [  395, 16600],\n",
       "       [  396, 15600],\n",
       "       [  397, 19250],\n",
       "       [  398, 20250],\n",
       "       [  399, 16600],\n",
       "       [  400, 16600],\n",
       "       [  401, 16600],\n",
       "       [  402, 16600],\n",
       "       [  403, 15600],\n",
       "       [  404, 16600],\n",
       "       [  405, 19250],\n",
       "       [  406, 16600],\n",
       "       [  407, 20250],\n",
       "       [  408, 20250],\n",
       "       [  409, 69225],\n",
       "       [  410, 15600],\n",
       "       [  411, 16600],\n",
       "       [  412, 16600],\n",
       "       [  413, 16600],\n",
       "       [  414, 15600],\n",
       "       [  415, 22250]])"
      ]
     },
     "execution_count": 39,
     "metadata": {},
     "output_type": "execute_result"
    }
   ],
   "source": [
    "lending_co = np.genfromtxt('Lending-Company-Total-Price.csv', \n",
    "                           delimiter=\",\",\n",
    "                           skip_header= 1,\n",
    "                           usecols= (0, -1),\n",
    "                           dtype= None\n",
    "                           )\n",
    "lending_co"
   ]
  },
  {
   "cell_type": "markdown",
   "metadata": {},
   "source": [
    "### 16. Setting the datatype to None means the function automatically chooses the datatype for each column of the text file, so let's see how this works for all the columns."
   ]
  },
  {
   "cell_type": "code",
   "execution_count": 40,
   "metadata": {},
   "outputs": [
    {
     "data": {
      "text/plain": [
       "array([(  1, 'id_1', 'Product B', 'Male', 'Location 2', 'Region 2', 16600),\n",
       "       (  2, 'id_2', 'Product B', 'Male', 'Location 3', '', 16600),\n",
       "       (  3, 'id_3', 'Product C', 'Female', 'Location 5', 'Region 5', 15600),\n",
       "       (  4, 'id_4', 'Product B', 'Male', 'Location 6', 'Region 1', 16600),\n",
       "       (  5, 'id_5', 'Product D', 'Female', 'Location 7', 'Region 2', 20250),\n",
       "       (  6, 'id_6', 'Product B', 'Female', 'Location 10', 'Region 2',    -1),\n",
       "       (  7, 'id_7', 'Product A', 'Male', 'Location 11', 'Region 3', 20250),\n",
       "       (  8, 'id_8', 'Product B', 'Male', 'Location 12', 'Region 6', 16600),\n",
       "       (  9, 'id_9', 'Product A', 'Female', 'Location 3', 'Region 3', 22250),\n",
       "       ( 10, 'id_10', 'Product A', 'Female', 'Location 13', 'Region 6', 20250),\n",
       "       ( 11, 'id_11', 'Product B', 'Female', 'Location 15', 'Region 2', 16600),\n",
       "       ( 12, 'id_12', 'Product D', 'Female', 'Location 16', 'Region 1', 20250),\n",
       "       ( 13, 'id_13', 'Product B', 'Male', 'Location 17', 'Region 3', 16600),\n",
       "       ( 14, 'id_14', 'Product A', 'Male', 'Location 19', 'Region 2', 20750),\n",
       "       ( 15, 'id_15', 'Product A', 'Female', 'Location 23', 'Region 4', 22250),\n",
       "       ( 16, 'id_16', 'Product B', 'Male', 'Location 27', 'Region 2', 16600),\n",
       "       ( 17, 'id_17', 'Product A', 'Male', 'Location 25', 'Region 3', 22250),\n",
       "       ( 18, 'id_18', 'Product B', 'Female', 'Location 26', 'Region 3', 16600),\n",
       "       ( 19, 'id_19', 'Product B', 'Male', 'Location 29', 'Region 1', 16600),\n",
       "       ( 20, 'id_20', 'Product E', 'Male', 'Location 30', 'Region 2', 54625),\n",
       "       ( 21, 'id_21', 'Product B', 'Male', 'Location 31', 'Region 4', 16600),\n",
       "       ( 22, 'id_22', 'Product A', 'Male', 'Location 17', 'Region 3', 22250),\n",
       "       ( 23, 'id_23', 'Product A', 'Male', 'Location 33', 'Region 3', 19250),\n",
       "       ( 24, 'id_24', 'Product C', 'NotSpecified', 'Location 34', 'Region 1', 15600),\n",
       "       ( 25, 'id_25', 'Product D', 'Female', 'Location 35', 'Region 6', 20250),\n",
       "       ( 26, 'id_26', 'Product A', 'Male', 'Location 37', 'Region 4', 22250),\n",
       "       ( 27, 'id_27', 'Product A', 'Female', 'Location 38', 'Region 3', 19250),\n",
       "       ( 28, 'id_28', 'Product F', 'Female', 'Location 39', 'Region 6', 69225),\n",
       "       ( 29, 'id_29', 'Product D', 'Female', 'Location 40', 'Region 6', 20250),\n",
       "       ( 30, 'id_30', 'Product B', 'Male', 'Location 30', 'Region 2', 16600),\n",
       "       ( 31, 'id_31', 'Product B', 'Male', 'Location 41', 'Region 1', 16600),\n",
       "       ( 32, 'id_32', 'Product B', 'Male', 'Location 42', 'Region 4', 16600),\n",
       "       ( 33, 'id_33', 'Product A', 'Female', 'Location 22', 'Region 6', 19250),\n",
       "       ( 34, 'id_34', 'Product B', 'Male', 'Location 43', 'Region 3', 16600),\n",
       "       ( 35, 'id_35', 'Product A', 'Female', 'Location 46', 'Region 2', 19250),\n",
       "       ( 36, 'id_36', 'Product B', 'Female', 'Location 47', 'Region 7', 16600),\n",
       "       ( 37, 'id_37', 'Product B', 'Male', 'Location 50', 'Region 1', 16600),\n",
       "       ( 38, 'id_38', 'Product B', 'Male', 'Location 26', 'Region 3', 16600),\n",
       "       ( 39, 'id_39', 'Product C', 'NotSpecified', 'Location 52', 'Region 6', 15600),\n",
       "       ( 40, 'id_40', 'Product B', 'Female', 'Location 25', 'Region 3', 16600),\n",
       "       ( 41, 'id_41', 'Product B', 'Male', 'Location 17', 'Region 3', 16600),\n",
       "       ( 42, 'id_42', 'Product B', 'Female', 'Location 19', 'Region 2', 16600),\n",
       "       ( 43, 'id_43', 'Product A', 'Male', 'Location 53', 'Region 6', 19250),\n",
       "       ( 44, 'id_44', 'Product C', 'NotSpecified', 'Location 54', 'Region 4', 15600),\n",
       "       ( 45, 'id_45', 'Product A', 'Male', 'Location 46', 'Region 2', 19250),\n",
       "       ( 46, 'id_46', 'Product B', 'Male', 'Location 44', 'Region 1', 16600),\n",
       "       ( 47, 'id_47', 'Product B', 'Male', 'Location 39', 'Region 6', 16600),\n",
       "       ( 48, 'id_48', 'Product B', 'Male', 'Location 30', 'Region 2', 16600),\n",
       "       ( 49, 'id_49', 'Product D', 'Male', 'Location 56', 'Region 3', 20250),\n",
       "       ( 50, 'id_50', 'Product A', 'Female', 'Location 44', 'Region 1', 22250),\n",
       "       ( 51, 'id_51', 'Product B', 'Male', 'Location 57', 'Region 6', 16600),\n",
       "       ( 52, 'id_52', 'Product A', 'Female', 'Location 39', 'Region 6', 20250),\n",
       "       ( 53, 'id_53', 'Product D', 'Male', 'Location 59', 'Region 6', 20250),\n",
       "       ( 54, 'id_54', 'Product B', 'Male', 'Location 44', 'Region 1', 16600),\n",
       "       ( 55, 'id_55', 'Product B', 'Male', 'Location 60', 'Region 3', 16600),\n",
       "       ( 56, 'id_56', 'Product B', 'Male', 'Location 29', 'Region 1', 16600),\n",
       "       ( 57, 'id_57', 'Product B', 'Female', 'Location 44', 'Region 1',    -1),\n",
       "       ( 58, 'id_58', 'Product B', 'Male', 'Location 61', 'Region 2', 16600),\n",
       "       ( 59, 'id_59', 'Product B', 'Male', 'Location 62', 'Region 3', 16600),\n",
       "       ( 60, 'id_60', 'Product B', 'Female', 'Location 6', 'Region 1', 16600),\n",
       "       ( 61, 'id_61', 'Product A', 'Male', 'Location 23', 'Region 4', 19250),\n",
       "       ( 62, 'id_62', 'Product C', 'NotSpecified', 'Location 64', 'Region 6', 15600),\n",
       "       ( 63, 'id_63', 'Product C', 'Female', 'Location 65', 'Region 2', 15600),\n",
       "       ( 64, 'id_64', 'Product D', 'Male', 'Location 66', 'Region 2', 20250),\n",
       "       ( 65, 'id_65', 'Product B', 'Male', 'Location 23', 'Region 4', 16600),\n",
       "       ( 66, 'id_66', 'Product A', 'Male', 'Location 19', 'Region 2', 22250),\n",
       "       ( 67, 'id_67', 'Product A', 'Male', 'Location 50', 'Region 1', 22250),\n",
       "       ( 68, 'id_68', 'Product D', 'Male', 'Location 68', 'Region 6', 20250),\n",
       "       ( 69, 'id_69', 'Product A', 'Female', 'Location 61', 'Region 2', 20250),\n",
       "       ( 70, 'id_70', 'Product B', 'Female', 'Location 10', 'Region 2', 16600),\n",
       "       ( 71, 'id_71', 'Product C', 'Female', 'Location 64', 'Region 6', 15600),\n",
       "       ( 72, 'id_72', 'Product B', 'Male', 'Location 70', 'Region 7', 16600),\n",
       "       ( 73, 'id_73', 'Product B', 'Male', 'Location 72', 'Region 3', 16600),\n",
       "       ( 74, 'id_74', 'Product A', 'Male', 'Location 40', 'Region 6', 22250),\n",
       "       ( 75, 'id_75', 'Product A', 'Male', 'Location 20', 'Region 1', 20750),\n",
       "       ( 76, 'id_76', 'Product A', 'Male', 'Location 73', 'Region 4', 22250),\n",
       "       ( 77, 'id_77', 'Product A', 'Female', 'Location 20', 'Region 1', 19250),\n",
       "       ( 78, 'id_78', 'Product D', 'Male', 'Location 75', 'Region 3', 20250),\n",
       "       ( 79, 'id_79', 'Product D', 'Male', 'Location 76', 'Region 2', 20250),\n",
       "       ( 80, 'id_80', 'Product D', 'Female', 'Location 77', 'Region 3', 20250),\n",
       "       ( 81, 'id_81', 'Product A', 'Male', 'Location 2', 'Region 2', 19250),\n",
       "       ( 82, 'id_82', 'Product B', 'Male', 'Location 4', 'Region 4', 16600),\n",
       "       ( 83, 'id_83', 'Product A', 'Female', 'Location 78', 'Region 4', 22250),\n",
       "       ( 84, 'id_84', 'Product D', 'Male', 'Location 79', 'Region 1', 20250),\n",
       "       ( 85, 'id_85', 'Product B', 'Female', 'Location 80', 'Region 2', 16600),\n",
       "       ( 86, 'id_86', 'Product A', 'Female', 'Location 25', 'Region 3', 19250),\n",
       "       ( 87, 'id_87', 'Product A', 'Male', 'Location 11', 'Region 3', 22250),\n",
       "       ( 88, 'id_88', 'Product B', 'Male', 'Location 81', 'Region 10', 16600),\n",
       "       ( 89, 'id_89', 'Product A', 'Male', 'Location 82', 'Region 7', 19250),\n",
       "       ( 90, 'id_90', 'Product B', 'Male', 'Location 32', 'Region 6', 16600),\n",
       "       ( 91, 'id_91', 'Product A', 'Male', 'Location 84', 'Region 3',    -1),\n",
       "       ( 92, 'id_92', 'Product D', 'Male', 'Location 34', 'Region 1', 20250),\n",
       "       ( 93, 'id_93', 'Product B', 'Male', 'Location 87', 'Region 6', 16600),\n",
       "       ( 94, 'id_94', 'Product B', 'Male', 'Location 17', 'Region 3', 16600),\n",
       "       ( 95, 'id_95', 'Product A', 'Female', 'Location 49', 'Region 6', 19250),\n",
       "       ( 96, 'id_96', 'Product B', 'Male', 'Location 53', 'Region 6', 16600),\n",
       "       ( 97, 'id_97', 'Product B', 'Male', 'Location 2', 'Region 2', 16600),\n",
       "       ( 98, 'id_98', 'Product A', 'Female', 'Location 47', 'Region 7', 22250),\n",
       "       ( 99, 'id_99', 'Product A', 'Male', 'Location 89', 'Region 6', 22250),\n",
       "       (100, 'id_100', 'Product B', 'Male', 'Location 90', 'Region 6', 16600),\n",
       "       (101, 'id_101', 'Product B', 'Female', 'Location 22', 'Region 6', 16600),\n",
       "       (102, 'id_102', 'Product A', 'Female', 'Location 22', 'Region 6', 19250),\n",
       "       (103, 'id_103', 'Product B', 'Male', 'Location 91', 'Region 6', 16600),\n",
       "       (104, 'id_104', 'Product A', 'Male', 'Location 25', 'Region 3', 22250),\n",
       "       (105, 'id_105', 'Product A', 'Male', 'Location 62', 'Region 3', 19250),\n",
       "       (106, 'id_106', 'Product B', 'Male', 'Location 94', 'Region 6', 16600),\n",
       "       (107, 'id_107', 'Product B', 'Female', 'Location 38', 'Region 3', 16600),\n",
       "       (108, 'id_108', 'Product A', 'Male', 'Location 42', 'Region 4', 19250),\n",
       "       (109, 'id_109', 'Product B', 'Male', 'Location 6', 'Region 1', 16600),\n",
       "       (110, 'id_110', 'Product A', 'Female', 'Location 3', 'Region 3', 22250),\n",
       "       (111, 'id_111', 'Product B', 'Female', 'Location 97', 'Region 5', 16600),\n",
       "       (112, 'id_112', 'Product C', 'NotSpecified', 'Location 98', 'Region 11', 15600),\n",
       "       (113, 'id_113', 'Product B', 'Male', 'Location 18', 'Region 7', 16600),\n",
       "       (114, 'id_114', 'Product D', 'Male', 'Location 86', 'Region 6', 20250),\n",
       "       (115, 'id_115', 'Product B', 'Female', 'Location 13', 'Region 6', 16600),\n",
       "       (116, 'id_116', 'Product A', 'Female', 'Location 25', 'Region 3', 19250),\n",
       "       (117, 'id_117', 'Product A', 'Female', 'Location 6', 'Region 1', 19250),\n",
       "       (118, 'id_118', 'Product A', 'Male', 'Location 94', 'Region 6', 19250),\n",
       "       (119, 'id_119', 'Product C', 'NotSpecified', 'Location 101', 'Region 9', 15600),\n",
       "       (120, 'id_120', 'Product A', 'Male', 'Location 87', 'Region 6', 22250),\n",
       "       (121, 'id_121', 'Product A', 'Female', 'Location 9', 'Region 6', 22250),\n",
       "       (122, 'id_122', 'Product B', 'Male', 'Location 73', 'Region 4', 16600),\n",
       "       (123, 'id_123', 'Product D', 'Male', 'Location 102', 'Region 6', 20250),\n",
       "       (124, 'id_124', 'Product B', 'Male', 'Location 23', 'Region 4', 16600),\n",
       "       (125, 'id_125', 'Product B', 'Male', 'Location 10', 'Region 2', 16600),\n",
       "       (126, 'id_126', 'Product A', 'Male', 'Location 26', 'Region 3', 20750),\n",
       "       (127, 'id_127', 'Product A', 'Female', 'Location 87', 'Region 6', 20250),\n",
       "       (128, 'id_128', 'Product B', 'Male', 'Location 61', 'Region 2', 16600),\n",
       "       (129, 'id_129', 'Product B', 'Male', 'Location 11', 'Region 3', 16600),\n",
       "       (130, 'id_130', 'Product B', 'Male', 'Location 25', 'Region 3', 16600),\n",
       "       (131, 'id_131', 'Product C', 'Male', 'Location 27', 'Region 2', 15600),\n",
       "       (132, 'id_132', 'Product B', 'Male', 'Location 84', 'Region 3', 16600),\n",
       "       (133, 'id_133', 'Product C', 'NotSpecified', 'Location 105', 'Region 10', 15600),\n",
       "       (134, 'id_134', 'Product A', 'Male', 'Location 88', 'Region 7', 19250),\n",
       "       (135, 'id_135', 'Product D', 'Male', 'Location 106', 'Region 6', 16600),\n",
       "       (136, 'id_136', 'Product B', 'Female', 'Location 39', 'Region 6', 16600),\n",
       "       (137, 'id_137', 'Product D', 'Male', 'Location 41', 'Region 1', 20250),\n",
       "       (138, 'id_138', 'Product A', 'Female', 'Location 21', 'Region 7', 19250),\n",
       "       (139, 'id_139', 'Product C', 'Female', 'Location 107', 'Region 2', 15600),\n",
       "       (140, 'id_140', 'Product B', 'Female', 'Location 53', 'Region 6', 16600),\n",
       "       (141, 'id_141', 'Product B', 'Female', 'Location 49', 'Region 6', 16600),\n",
       "       (142, 'id_142', 'Product B', 'Male', 'Location 82', 'Region 7', 16600),\n",
       "       (143, 'id_143', 'Product C', 'NotSpecified', 'Location 110', 'Region 6', 15600),\n",
       "       (144, 'id_144', 'Product B', 'Male', 'Location 111', 'Region 6', 16600),\n",
       "       (145, 'id_145', 'Product C', 'NotSpecified', 'Location 112', 'Region 2', 15600),\n",
       "       (146, 'id_146', 'Product A', 'Female', 'Location 60', 'Region 3', 19250),\n",
       "       (147, 'id_147', 'Product A', 'Male', 'Location 2', 'Region 2', 22250),\n",
       "       (148, 'id_148', 'Product A', 'Male', 'Location 111', 'Region 6', 20250),\n",
       "       (149, 'id_149', 'Product A', 'Male', 'Location 19', 'Region 2', 19250),\n",
       "       (150, 'id_150', 'Product A', 'Male', 'Location 4', 'Region 4', 22250),\n",
       "       (151, 'id_151', 'Product B', 'Male', 'Location 113', 'Region 3', 16600),\n",
       "       (152, 'id_152', 'Product A', 'Male', 'Location 20', 'Region 1', 22250),\n",
       "       (153, 'id_153', 'Product E', 'Male', 'Location 10', 'Region 2', 54625),\n",
       "       (154, 'id_154', 'Product E', 'Male', 'Location 53', 'Region 6', 54625),\n",
       "       (155, 'id_155', 'Product B', 'Male', 'Location 84', 'Region 3', 16600),\n",
       "       (156, 'id_156', 'Product A', 'Female', 'Location 10', 'Region 2', 22250),\n",
       "       (157, 'id_157', 'Product A', 'Male', 'Location 39', 'Region 6', 22250),\n",
       "       (158, 'id_158', 'Product A', 'Male', 'Location 114', 'Region 6', 22250),\n",
       "       (159, 'id_159', 'Product A', 'Female', 'Location 60', 'Region 3', 22250),\n",
       "       (160, 'id_160', 'Product C', 'NotSpecified', 'Location 115', 'Region 6', 15600),\n",
       "       (161, 'id_161', 'Product A', 'Male', 'Location 26', 'Region 3',    -1),\n",
       "       (162, 'id_162', 'Product B', 'Female', 'Location 117', 'Region 1', 16600),\n",
       "       (163, 'id_163', 'Product A', 'Male', 'Location 25', 'Region 3', 22250),\n",
       "       (164, 'id_164', 'Product D', 'Female', 'Location 118', 'Region 2', 20250),\n",
       "       (165, 'id_165', 'Product A', 'Female', 'Location 61', 'Region 2', 22250),\n",
       "       (166, 'id_166', 'Product B', 'Male', 'Location 19', 'Region 2', 16600),\n",
       "       (167, 'id_167', 'Product A', 'Male', 'Location 70', 'Region 7', 19250),\n",
       "       (168, 'id_168', 'Product A', 'Female', 'Location 3', 'Region 3', 20250),\n",
       "       (169, 'id_169', 'Product B', 'Female', 'Location 27', 'Region 2', 16600),\n",
       "       (170, 'id_170', 'Product D', 'Male', 'Location 122', 'Region 5', 20250),\n",
       "       (171, 'id_171', 'Product B', 'Male', 'Location 39', 'Region 6', 16600),\n",
       "       (172, 'id_172', 'Product B', 'Male', 'Location 123', 'Region 6', 16600),\n",
       "       (173, 'id_173', 'Product D', 'Male', 'Location 124', 'Region 3', 20250),\n",
       "       (174, 'id_174', 'Product A', 'Male', 'Location 86', 'Region 6', 20250),\n",
       "       (175, 'id_175', 'Product B', 'Female', 'Location 25', 'Region 3', 16600),\n",
       "       (176, 'id_176', 'Product A', 'Male', 'Location 22', 'Region 6', 20250),\n",
       "       (177, 'id_177', 'Product A', 'Male', 'Location 49', 'Region 6', 19250),\n",
       "       (178, 'id_178', 'Product B', 'Female', 'Location 34', 'Region 1', 16600),\n",
       "       (179, 'id_179', 'Product A', 'Female', 'Location 113', 'Region 3', 20750),\n",
       "       (180, 'id_180', 'Product D', 'Male', 'Location 125', 'Region 12', 20250),\n",
       "       (181, 'id_181', 'Product A', 'Male', 'Location 58', 'Region 6', 22250),\n",
       "       (182, 'id_182', 'Product B', 'Female', 'Location 62', 'Region 3', 16600),\n",
       "       (183, 'id_183', 'Product A', 'Male', 'Location 26', 'Region 3', 20250),\n",
       "       (184, 'id_184', 'Product D', 'Male', 'Location 127', 'Region 2', 20250),\n",
       "       (185, 'id_185', 'Product B', 'Male', 'Location 21', 'Region 7', 16600),\n",
       "       (186, 'id_186', 'Product A', 'Female', 'Location 22', 'Region 6', 20250),\n",
       "       (187, 'id_187', 'Product A', 'Male', 'Location 46', 'Region 2', 20750),\n",
       "       (188, 'id_188', 'Product B', 'Female', 'Location 49', 'Region 6', 16600),\n",
       "       (189, 'id_189', 'Product B', 'Male', 'Location 48', 'Region 6', 16600),\n",
       "       (190, 'id_190', 'Product A', 'Male', 'Location 86', 'Region 6', 22250),\n",
       "       (191, 'id_191', 'Product A', 'Male', 'Location 18', 'Region 7', 22250),\n",
       "       (192, 'id_192', 'Product A', 'Female', 'Location 30', 'Region 2', 22250),\n",
       "       (193, 'id_193', 'Product B', 'Male', 'Location 49', 'Region 6', 16600),\n",
       "       (194, 'id_194', 'Product E', 'Male', 'Location 84', 'Region 3', 54625),\n",
       "       (195, 'id_195', 'Product B', 'Male', 'Location 35', 'Region 6', 16600),\n",
       "       (196, 'id_196', 'Product A', 'Male', 'Location 53', 'Region 6', 22250),\n",
       "       (197, 'id_197', 'Product B', 'Male', 'Location 73', 'Region 4', 16600),\n",
       "       (198, 'id_198', 'Product D', 'Male', 'Location 135', 'Region 1', 20250),\n",
       "       (199, 'id_199', 'Product A', 'Female', 'Location 60', 'Region 3', 22250),\n",
       "       (200, 'id_200', 'Product C', 'Male', 'Location 136', 'Region 6', 15600),\n",
       "       (201, 'id_201', 'Product D', 'Male', 'Location 24', 'Region 2', 20250),\n",
       "       (202, 'id_202', 'Product B', 'Male', 'Location 137', 'Region 6', 16600),\n",
       "       (203, 'id_203', 'Product E', 'Male', 'Location 73', 'Region 4', 54625),\n",
       "       (204, 'id_204', 'Product B', 'Female', 'Location 28', 'Region 7', 16600),\n",
       "       (205, 'id_205', 'Product B', 'Female', 'Location 58', 'Region 6', 16600),\n",
       "       (206, 'id_206', 'Product A', 'Male', 'Location 111', 'Region 6', 22250),\n",
       "       (207, 'id_207', 'Product A', 'Female', 'Location 44', 'Region 1', 19250),\n",
       "       (208, 'id_208', 'Product A', 'Male', 'Location 47', 'Region 7', 19250),\n",
       "       (209, 'id_209', 'Product A', 'Male', 'Location 21', 'Region 7', 19250),\n",
       "       (210, 'id_210', 'Product A', 'Female', 'Location 11', 'Region 3', 22250),\n",
       "       (211, 'id_211', 'Product C', 'Male', 'Location 138', 'Region 5', 15600),\n",
       "       (212, 'id_212', 'Product A', 'Female', 'Location 11', 'Region 3', 22250),\n",
       "       (213, 'id_213', 'Product C', 'NotSpecified', 'Location 139', 'Region 6', 15600),\n",
       "       (214, 'id_214', 'Product B', 'Female', 'Location 73', 'Region 4', 16600),\n",
       "       (215, 'id_215', 'Product A', 'Female', 'Location 32', 'Region 6', 22250),\n",
       "       (216, 'id_216', 'Product A', 'Male', 'Location 22', 'Region 6', 22250),\n",
       "       (217, 'id_217', 'Product B', 'Male', 'Location 140', 'Region 6', 16600),\n",
       "       (218, 'id_218', 'Product A', 'Male', 'Location 9', 'Region 6', 20750),\n",
       "       (219, 'id_219', 'Product A', 'Male', 'Location 3', 'Region 3', 19250),\n",
       "       (220, 'id_220', 'Product B', 'Male', 'Location 67', 'Region 1', 16600),\n",
       "       (221, 'id_221', 'Product B', 'Male', 'Location 141', 'Region 12',    -1),\n",
       "       (222, 'id_222', 'Product B', 'Female', 'Location 17', 'Region 3', 16600),\n",
       "       (223, 'id_223', 'Product A', 'Male', 'Location 142', 'Region 6', 22250),\n",
       "       (224, 'id_224', 'Product A', 'Female', 'Location 45', 'Region 3', 19250),\n",
       "       (225, 'id_225', 'Product B', 'Male', 'Location 23', 'Region 4', 16600),\n",
       "       (226, 'id_226', 'Product B', 'Male', 'Location 6', 'Region 1', 16600),\n",
       "       (227, 'id_227', 'Product A', 'Male', 'Location 19', 'Region 2', 19250),\n",
       "       (228, 'id_228', 'Product A', 'Male', 'Location 48', 'Region 6', 19250),\n",
       "       (229, 'id_229', 'Product B', 'Male', 'Location 8', 'Region 2', 16600),\n",
       "       (230, 'id_230', 'Product D', 'Male', 'Location 143', 'Region 6', 20250),\n",
       "       (231, 'id_231', 'Product A', 'Female', 'Location 44', 'Region 1', 22250),\n",
       "       (232, 'id_232', 'Product C', 'Male', 'Location 145', 'Region 4', 15600),\n",
       "       (233, 'id_233', 'Product B', 'Male', 'Location 21', 'Region 7', 16600),\n",
       "       (234, 'id_234', 'Product B', 'Male', 'Location 62', 'Region 3', 16600),\n",
       "       (235, 'id_235', 'Product E', 'Male', 'Location 1', 'Region 1', 54625),\n",
       "       (236, 'id_236', 'Product A', 'Male', 'Location 62', 'Region 3', 19250),\n",
       "       (237, 'id_237', 'Product A', 'Female', 'Location 18', 'Region 7', 22250),\n",
       "       (238, 'id_238', 'Product B', 'Female', 'Location 6', 'Region 1', 16600),\n",
       "       (239, 'id_239', 'Product A', 'Male', 'Location 91', 'Region 6', 22250),\n",
       "       (240, 'id_240', 'Product A', 'Female', 'Location 25', 'Region 3', 19250),\n",
       "       (241, 'id_241', 'Product A', 'Female', 'Location 17', 'Region 3', 19250),\n",
       "       (242, 'id_242', 'Product A', 'Female', 'Location 22', 'Region 6', 20750),\n",
       "       (243, 'id_243', 'Product A', 'Female', 'Location 29', 'Region 1', 20750),\n",
       "       (244, 'id_244', 'Product B', 'Male', 'Location 91', 'Region 6', 16600),\n",
       "       (245, 'id_245', 'Product B', 'Female', 'Location 25', 'Region 3', 16600),\n",
       "       (246, 'id_246', 'Product A', 'Male', 'Location 149', 'Region 1', 22250),\n",
       "       (247, 'id_247', 'Product B', 'Male', 'Location 9', 'Region 6', 16600),\n",
       "       (248, 'id_248', 'Product B', 'Male', 'Location 3', 'Region 3', 16600),\n",
       "       (249, 'id_249', 'Product B', 'Male', 'Location 21', 'Region 7', 16600),\n",
       "       (250, 'id_250', 'Product B', 'Female', 'Location 44', 'Region 1', 16600),\n",
       "       (251, 'id_251', 'Product C', 'Female', 'Location 152', 'Region 6', 15600),\n",
       "       (252, 'id_252', 'Product A', 'Male', 'Location 58', 'Region 6', 19250),\n",
       "       (253, 'id_253', 'Product D', 'Male', 'Location 153', 'Region 6', 20250),\n",
       "       (254, 'id_254', 'Product A', 'Female', 'Location 22', 'Region 6', 22250),\n",
       "       (255, 'id_255', 'Product A', 'Female', 'Location 3', 'Region 3', 19250),\n",
       "       (256, 'id_256', 'Product A', 'Female', 'Location 3', 'Region 3', 22250),\n",
       "       (257, 'id_257', 'Product A', 'Male', 'Location 6', 'Region 1', 22250),\n",
       "       (258, 'id_258', 'Product A', 'Female', 'Location 45', 'Region 3', 22250),\n",
       "       (259, 'id_259', 'Product B', 'Male', 'Location 155', 'Region 6', 16600),\n",
       "       (260, 'id_260', 'Product D', 'Female', 'Location 156', 'Region 4', 20250),\n",
       "       (261, 'id_261', 'Product B', 'Male', 'Location 135', 'Region 1', 16600),\n",
       "       (262, 'id_262', 'Product B', 'Female', 'Location 84', 'Region 3', 16600),\n",
       "       (263, 'id_263', 'Product B', 'Female', 'Location 40', 'Region 6', 16600),\n",
       "       (264, 'id_264', 'Product A', 'Female', 'Location 62', 'Region 3', 19250),\n",
       "       (265, 'id_265', 'Product B', 'Female', 'Location 45', 'Region 3', 16600),\n",
       "       (266, 'id_266', 'Product B', 'Female', 'Location 157', 'Region 4', 16600),\n",
       "       (267, 'id_267', 'Product C', 'NotSpecified', 'Location 158', 'Region 3', 15600),\n",
       "       (268, 'id_268', 'Product B', 'Male', 'Location 13', 'Region 6', 16600),\n",
       "       (269, 'id_269', 'Product A', 'Male', 'Location 39', 'Region 6', 22250),\n",
       "       (270, 'id_270', 'Product A', 'Female', 'Location 17', 'Region 3', 19250),\n",
       "       (271, 'id_271', 'Product A', 'Female', 'Location 67', 'Region 1',    -1),\n",
       "       (272, 'id_272', 'Product A', 'Female', 'Location 26', 'Region 3', 22250),\n",
       "       (273, 'id_273', 'Product C', 'NotSpecified', 'Location 159', 'Region 3', 15600),\n",
       "       (274, 'id_274', 'Product C', 'Female', 'Location 160', 'Region 8', 15600),\n",
       "       (275, 'id_275', 'Product B', 'Male', 'Location 144', 'Region 1', 16600),\n",
       "       (276, 'id_276', 'Product A', 'Male', 'Location 91', 'Region 6', 19250),\n",
       "       (277, 'id_277', 'Product B', 'Male', 'Location 70', 'Region 7', 16600),\n",
       "       (278, 'id_278', 'Product E', 'Male', 'Location 26', 'Region 3', 54625),\n",
       "       (279, 'id_279', 'Product B', 'Female', 'Location 30', 'Region 2', 16600),\n",
       "       (280, 'id_280', 'Product B', 'Male', 'Location 73', 'Region 4', 16600),\n",
       "       (281, 'id_281', 'Product B', 'Female', 'Location 10', 'Region 2', 16600),\n",
       "       (282, 'id_282', 'Product A', 'Male', 'Location 38', 'Region 3', 19250),\n",
       "       (283, 'id_283', 'Product A', 'Male', 'Location 3', 'Region 3', 22250),\n",
       "       (284, 'id_284', 'Product A', 'Male', 'Location 109', 'Region 7', 22250),\n",
       "       (285, 'id_285', 'Product B', 'Female', 'Location 4', 'Region 4', 16600),\n",
       "       (286, 'id_286', 'Product A', 'Female', 'Location 86', 'Region 6', 19250),\n",
       "       (287, 'id_287', 'Product A', 'Female', 'Location 25', 'Region 3', 19250),\n",
       "       (288, 'id_288', 'Product C', 'NotSpecified', 'Location 166', 'Region 3', 15600),\n",
       "       (289, 'id_289', 'Product E', 'Female', 'Location 88', 'Region 7', 54625),\n",
       "       (290, 'id_290', 'Product B', 'Male', 'Location 50', 'Region 1', 16600),\n",
       "       (291, 'id_291', 'Product B', 'Male', 'Location 88', 'Region 7', 16600),\n",
       "       (292, 'id_292', 'Product C', 'NotSpecified', 'Location 34', 'Region 1', 15600),\n",
       "       (293, 'id_293', 'Product D', 'Male', 'Location 168', 'Region 5', 20250),\n",
       "       (294, 'id_294', 'Product A', 'Male', 'Location 42', 'Region 4', 19250),\n",
       "       (295, 'id_295', 'Product A', 'Female', 'Location 70', 'Region 7', 19250),\n",
       "       (296, 'id_296', 'Product C', 'NotSpecified', 'Location 74', 'Region 6', 15600),\n",
       "       (297, 'id_297', 'Product C', 'NotSpecified', 'Location 143', 'Region 6', 15600),\n",
       "       (298, 'id_298', 'Product A', 'Female', 'Location 29', 'Region 1', 19250),\n",
       "       (299, 'id_299', 'Product B', 'Male', 'Location 46', 'Region 2', 16600),\n",
       "       (300, 'id_300', 'Product D', 'Female', 'Location 79', 'Region 1', 20250),\n",
       "       (301, 'id_301', 'Product A', 'Male', 'Location 17', 'Region 3', 20750),\n",
       "       (302, 'id_302', 'Product B', 'Female', 'Location 9', 'Region 6', 16600),\n",
       "       (303, 'id_303', 'Product B', 'Male', 'Location 169', 'Region 6', 16600),\n",
       "       (304, 'id_304', 'Product B', 'Male', 'Location 62', 'Region 3', 16600),\n",
       "       (305, 'id_305', 'Product A', 'Male', 'Location 61', 'Region 2', 22250),\n",
       "       (306, 'id_306', 'Product B', 'Male', 'Location 91', 'Region 6', 16600),\n",
       "       (307, 'id_307', 'Product A', 'Male', 'Location 23', 'Region 4', 22250),\n",
       "       (308, 'id_308', 'Product A', 'Male', 'Location 32', 'Region 6', 20250),\n",
       "       (309, 'id_309', 'Product B', 'Female', 'Location 23', 'Region 4', 16600),\n",
       "       (310, 'id_310', 'Product A', 'Female', 'Location 84', 'Region 3', 19250),\n",
       "       (311, 'id_311', 'Product A', 'Male', 'Location 91', 'Region 6', 22250),\n",
       "       (312, 'id_312', 'Product B', 'Female', 'Location 38', 'Region 3', 16600),\n",
       "       (313, 'id_313', 'Product C', 'NotSpecified', 'Location 172', 'Region 6', 15600),\n",
       "       (314, 'id_314', 'Product B', 'Male', 'Location 69', 'Region 6', 16600),\n",
       "       (315, 'id_315', 'Product B', 'Female', 'Location 19', 'Region 2', 16600),\n",
       "       (316, 'id_316', 'Product C', 'Female', 'Location 173', 'Region 4', 15600),\n",
       "       (317, 'id_317', 'Product B', 'Male', 'Location 117', 'Region 1', 16600),\n",
       "       (318, 'id_318', 'Product D', 'Male', 'Location 174', 'Region 2', 20250),\n",
       "       (319, 'id_319', 'Product A', 'Male', 'Location 69', 'Region 6', 19250),\n",
       "       (320, 'id_320', 'Product D', 'Female', 'Location 12', 'Region 6', 20250),\n",
       "       (321, 'id_321', 'Product B', 'Male', 'Location 175', 'Region 8', 16600),\n",
       "       (322, 'id_322', 'Product A', 'Male', 'Location 91', 'Region 6', 22250),\n",
       "       (323, 'id_323', 'Product B', 'Female', 'Location 44', 'Region 1', 16600),\n",
       "       (324, 'id_324', 'Product A', 'Male', 'Location 30', 'Region 2', 22250),\n",
       "       (325, 'id_325', 'Product A', 'Male', 'Location 3', 'Region 3', 22250),\n",
       "       (326, 'id_326', 'Product A', 'Female', 'Location 61', 'Region 2', 19250),\n",
       "       (327, 'id_327', 'Product E', 'Male', 'Location 22', 'Region 6', 54625),\n",
       "       (328, 'id_328', 'Product C', 'Female', 'Location 129', 'Region 13', 13775),\n",
       "       (329, 'id_329', 'Product B', 'Female', 'Location 6', 'Region 1', 16600),\n",
       "       (330, 'id_330', 'Product B', 'Female', 'Location 4', 'Region 4', 16600),\n",
       "       (331, 'id_331', 'Product A', 'Male', 'Location 3', 'Region 3',    -1),\n",
       "       (332, 'id_332', 'Product A', 'Male', 'Location 49', 'Region 6', 20750),\n",
       "       (333, 'id_333', 'Product B', 'Female', 'Location 26', 'Region 3', 16600),\n",
       "       (334, 'id_334', 'Product A', 'Female', 'Location 26', 'Region 3', 19250),\n",
       "       (335, 'id_335', 'Product A', 'Male', 'Location 111', 'Region 6', 22250),\n",
       "       (336, 'id_336', 'Product A', 'Male', 'Location 62', 'Region 3', 20250),\n",
       "       (337, 'id_337', 'Product A', 'Female', 'Location 22', 'Region 6', 22250),\n",
       "       (338, 'id_338', 'Product A', 'Male', 'Location 46', 'Region 2', 19250),\n",
       "       (339, 'id_339', 'Product B', 'Male', 'Location 45', 'Region 3', 16600),\n",
       "       (340, 'id_340', 'Product C', 'NotSpecified', 'Location 178', 'Region 2', 15600),\n",
       "       (341, 'id_341', 'Product A', 'Male', 'Location 111', 'Region 6', 20250),\n",
       "       (342, 'id_342', 'Product A', 'Male', 'Location 70', 'Region 7', 22250),\n",
       "       (343, 'id_343', 'Product A', 'Male', 'Location 58', 'Region 6', 22250),\n",
       "       (344, 'id_344', 'Product B', 'Male', 'Location 25', 'Region 3', 16600),\n",
       "       (345, 'id_345', 'Product A', 'Female', 'Location 25', 'Region 3', 22250),\n",
       "       (346, 'id_346', 'Product D', 'Male', 'Location 30', 'Region 2', 20250),\n",
       "       (347, 'id_347', 'Product B', 'Male', 'Location 58', 'Region 6', 16600),\n",
       "       (348, 'id_348', 'Product A', 'Female', 'Location 49', 'Region 6', 22250),\n",
       "       (349, 'id_349', 'Product A', 'Female', 'Location 91', 'Region 6', 19250),\n",
       "       (350, 'id_350', 'Product B', 'Female', 'Location 24', 'Region 2', 16600),\n",
       "       (351, 'id_351', 'Product B', 'Male', 'Location 39', 'Region 6', 16600),\n",
       "       (352, 'id_352', 'Product C', 'Male', 'Location 181', 'Region 6', 15600),\n",
       "       (353, 'id_353', 'Product A', 'Male', 'Location 6', 'Region 1', 19250),\n",
       "       (354, 'id_354', 'Product B', 'Male', 'Location 10', 'Region 2', 16600),\n",
       "       (355, 'id_355', 'Product A', 'Male', 'Location 94', 'Region 6', 20250),\n",
       "       (356, 'id_356', 'Product B', 'Female', 'Location 60', 'Region 3', 16600),\n",
       "       (357, 'id_357', 'Product A', 'Male', 'Location 91', 'Region 6', 22250),\n",
       "       (358, 'id_358', 'Product B', 'Female', 'Location 17', 'Region 3', 16600),\n",
       "       (359, 'id_359', 'Product C', 'Male', 'Location 182', 'Region 6', 15600),\n",
       "       (360, 'id_360', 'Product A', 'Male', 'Location 9', 'Region 6', 20250),\n",
       "       (361, 'id_361', 'Product A', 'Male', 'Location 88', 'Region 7', 22250),\n",
       "       (362, 'id_362', 'Product D', 'Male', 'Location 53', 'Region 6', 20250),\n",
       "       (363, 'id_363', 'Product B', 'Female', 'Location 73', 'Region 4', 16600),\n",
       "       (364, 'id_364', 'Product A', 'Male', 'Location 53', 'Region 6', 22250),\n",
       "       (365, 'id_365', 'Product B', 'Female', 'Location 8', 'Region 2', 16600),\n",
       "       (366, 'id_366', 'Product B', 'Male', 'Location 46', 'Region 2', 16600),\n",
       "       (367, 'id_367', 'Product B', 'Female', 'Location 19', 'Region 2', 16600),\n",
       "       (368, 'id_368', 'Product D', 'Male', 'Location 184', 'Region 6', 20250),\n",
       "       (369, 'id_369', 'Product B', 'Male', 'Location 27', 'Region 2', 16600),\n",
       "       (370, 'id_370', 'Product B', 'Female', 'Location 185', 'Region 6', 16600),\n",
       "       (371, 'id_371', 'Product B', 'Female', 'Location 53', 'Region 6', 16600),\n",
       "       (372, 'id_372', 'Product A', 'Male', 'Location 186', 'Region 14', 19250),\n",
       "       (373, 'id_373', 'Product D', 'Female', 'Location 187', 'Region 2', 20250),\n",
       "       (374, 'id_374', 'Product B', 'Male', 'Location 30', 'Region 2', 16600),\n",
       "       (375, 'id_375', 'Product B', 'Female', 'Location 21', 'Region 7', 16600),\n",
       "       (376, 'id_376', 'Product A', 'Male', 'Location 149', 'Region 1', 22250),\n",
       "       (377, 'id_377', 'Product A', 'Female', 'Location 46', 'Region 2', 19250),\n",
       "       (378, 'id_378', 'Product A', 'Female', 'Location 61', 'Region 2', 22250),\n",
       "       (379, 'id_379', 'Product B', 'Male', 'Location 30', 'Region 2', 16600),\n",
       "       (380, 'id_380', 'Product A', 'Female', 'Location 3', 'Region 3', 19250),\n",
       "       (381, 'id_381', 'Product A', 'Male', 'Location 33', 'Region 3',    -1),\n",
       "       (382, 'id_382', 'Product A', 'Male', 'Location 37', 'Region 4', 20250),\n",
       "       (383, 'id_383', 'Product A', 'Male', 'Location 3', 'Region 3', 20750),\n",
       "       (384, 'id_384', 'Product B', 'Male', 'Location 105', 'Region 10', 16600),\n",
       "       (385, 'id_385', 'Product B', 'Female', 'Location 97', 'Region 5', 16600),\n",
       "       (386, 'id_386', 'Product B', 'Male', 'Location 140', 'Region 6', 16600),\n",
       "       (387, 'id_387', 'Product B', 'Male', 'Location 146', 'Region 6', 16600),\n",
       "       (388, 'id_388', 'Product A', 'Female', 'Location 113', 'Region 3', 20250),\n",
       "       (389, 'id_389', 'Product B', 'Male', 'Location 6', 'Region 1', 16600),\n",
       "       (390, 'id_390', 'Product A', 'Male', 'Location 192', 'Region 6', 22250),\n",
       "       (391, 'id_391', 'Product C', 'Female', 'Location 193', 'Region 6', 15600),\n",
       "       (392, 'id_392', 'Product B', 'Male', 'Location 49', 'Region 6', 16600),\n",
       "       (393, 'id_393', 'Product B', 'Female', 'Location 3', 'Region 3', 16600),\n",
       "       (394, 'id_394', 'Product C', 'NotSpecified', 'Location 194', 'Region 4', 15600),\n",
       "       (395, 'id_395', 'Product B', 'Female', 'Location 30', 'Region 2', 16600),\n",
       "       (396, 'id_396', 'Product C', 'Female', 'Location 195', 'Region 5', 15600),\n",
       "       (397, 'id_397', 'Product A', 'Male', 'Location 57', 'Region 6', 19250),\n",
       "       (398, 'id_398', 'Product A', 'Male', 'Location 29', 'Region 1', 20250),\n",
       "       (399, 'id_399', 'Product B', 'Male', 'Location 73', 'Region 4', 16600),\n",
       "       (400, 'id_400', 'Product B', 'Male', 'Location 53', 'Region 6', 16600),\n",
       "       (401, 'id_401', 'Product B', 'Male', 'Location 60', 'Region 3', 16600),\n",
       "       (402, 'id_402', 'Product B', 'Female', 'Location 18', 'Region 7', 16600),\n",
       "       (403, 'id_403', 'Product C', 'Male', 'Location 118', 'Region 2', 15600),\n",
       "       (404, 'id_404', 'Product B', 'Male', 'Location 196', 'Region 2', 16600),\n",
       "       (405, 'id_405', 'Product A', 'Female', 'Location 20', 'Region 1', 19250),\n",
       "       (406, 'id_406', 'Product B', 'Female', 'Location 197', 'Region 5', 16600),\n",
       "       (407, 'id_407', 'Product D', 'Male', 'Location 198', 'Region 3', 20250),\n",
       "       (408, 'id_408', 'Product A', 'Male', 'Location 62', 'Region 3', 20250),\n",
       "       (409, 'id_409', 'Product F', 'Male', 'Location 39', 'Region 6', 69225),\n",
       "       (410, 'id_410', 'Product C', 'Male', 'Location 199', 'Region 2', 15600),\n",
       "       (411, 'id_411', 'Product B', 'Male', 'Location 58', 'Region 6', 16600),\n",
       "       (412, 'id_412', 'Product B', 'Male', 'Location 87', 'Region 6', 16600),\n",
       "       (413, 'id_413', 'Product B', 'Male', 'Location 135', 'Region 1', 16600),\n",
       "       (414, 'id_414', 'Product C', 'Female', 'Location 200', 'Region 6', 15600),\n",
       "       (415, 'id_415', 'Product A', 'Male', 'Location 8', 'Region 2', 22250)],\n",
       "      dtype=[('f0', '<i8'), ('f1', '<U6'), ('f2', '<U9'), ('f3', '<U12'), ('f4', '<U12'), ('f5', '<U9'), ('f6', '<i8')])"
      ]
     },
     "execution_count": 40,
     "metadata": {},
     "output_type": "execute_result"
    }
   ],
   "source": [
    "lending_co = np.genfromtxt('Lending-Company-Total-Price.csv', \n",
    "                           delimiter=\",\",\n",
    "                           skip_header= 1,\n",
    "                           dtype= None\n",
    "                           )\n",
    "lending_co"
   ]
  },
  {
   "cell_type": "code",
   "execution_count": null,
   "metadata": {},
   "outputs": [],
   "source": []
  }
 ],
 "metadata": {
  "kernelspec": {
   "display_name": "Python 3",
   "language": "python",
   "name": "python3"
  },
  "language_info": {
   "codemirror_mode": {
    "name": "ipython",
    "version": 3
   },
   "file_extension": ".py",
   "mimetype": "text/x-python",
   "name": "python",
   "nbconvert_exporter": "python",
   "pygments_lexer": "ipython3",
   "version": "3.13.0"
  }
 },
 "nbformat": 4,
 "nbformat_minor": 2
}
