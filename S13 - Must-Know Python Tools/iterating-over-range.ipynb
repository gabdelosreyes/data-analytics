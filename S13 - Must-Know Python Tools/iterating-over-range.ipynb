{
 "cells": [
  {
   "cell_type": "code",
   "execution_count": 2,
   "metadata": {},
   "outputs": [
    {
     "name": "stdout",
     "output_type": "stream",
     "text": [
      "0 1 "
     ]
    }
   ],
   "source": [
    "for i in range(2):\n",
    "    print (i, end = \" \")"
   ]
  },
  {
   "cell_type": "code",
   "execution_count": 4,
   "metadata": {},
   "outputs": [
    {
     "name": "stdout",
     "output_type": "stream",
     "text": [
      "0 1 2 3 4 "
     ]
    }
   ],
   "source": [
    "for j in range(5):\n",
    "    print (j, end = \" \")"
   ]
  },
  {
   "cell_type": "code",
   "execution_count": 6,
   "metadata": {},
   "outputs": [
    {
     "name": "stdout",
     "output_type": "stream",
     "text": [
      "0\n",
      "1\n",
      "2\n",
      "3\n",
      "4\n",
      "0\n",
      "1\n",
      "2\n",
      "3\n",
      "4\n"
     ]
    }
   ],
   "source": [
    "for i in range(2):\n",
    "    for j in range(5):\n",
    "        print (j)"
   ]
  },
  {
   "cell_type": "code",
   "execution_count": 7,
   "metadata": {},
   "outputs": [
    {
     "name": "stdout",
     "output_type": "stream",
     "text": [
      "[0, 0]\n",
      "[0, 1]\n",
      "[0, 2]\n",
      "[0, 3]\n",
      "[0, 4]\n",
      "[1, 0]\n",
      "[1, 1]\n",
      "[1, 2]\n",
      "[1, 3]\n",
      "[1, 4]\n"
     ]
    }
   ],
   "source": [
    "for i in range(2):\n",
    "    for j in range(5):\n",
    "        print ([i,j])"
   ]
  },
  {
   "cell_type": "code",
   "execution_count": 8,
   "metadata": {},
   "outputs": [],
   "source": [
    "products = ['Product A', 'Product B']\n",
    "exp_sales = [10000, 11000, 12000, 13000, 14000]"
   ]
  },
  {
   "cell_type": "code",
   "execution_count": 17,
   "metadata": {},
   "outputs": [
    {
     "name": "stdout",
     "output_type": "stream",
     "text": [
      "['Product A', 10000]\n",
      "['Product A', 11000]\n",
      "['Product A', 12000]\n",
      "['Product A', 13000]\n",
      "['Product A', 14000]\n",
      "['Product B', 10000]\n",
      "['Product B', 11000]\n",
      "['Product B', 12000]\n",
      "['Product B', 13000]\n",
      "['Product B', 14000]\n"
     ]
    }
   ],
   "source": [
    "for i in products:\n",
    "    for j in exp_sales:\n",
    "        print ([i,j])"
   ]
  },
  {
   "cell_type": "markdown",
   "metadata": {},
   "source": [
    "## Triple Nested For Loop"
   ]
  },
  {
   "cell_type": "code",
   "execution_count": 18,
   "metadata": {},
   "outputs": [],
   "source": [
    "products = ['Product A', 'Product B']\n",
    "exp_sales = [10000, 11000, 12000, 13000, 14000]"
   ]
  },
  {
   "cell_type": "code",
   "execution_count": 19,
   "metadata": {},
   "outputs": [],
   "source": [
    "time_horizon = [1, 3, 12]"
   ]
  },
  {
   "cell_type": "code",
   "execution_count": 21,
   "metadata": {},
   "outputs": [
    {
     "name": "stdout",
     "output_type": "stream",
     "text": [
      "['Product A', 10000]\n",
      "['Product A', 30000]\n",
      "['Product A', 120000]\n",
      "['Product A', 11000]\n",
      "['Product A', 33000]\n",
      "['Product A', 132000]\n",
      "['Product A', 12000]\n",
      "['Product A', 36000]\n",
      "['Product A', 144000]\n",
      "['Product A', 13000]\n",
      "['Product A', 39000]\n",
      "['Product A', 156000]\n",
      "['Product A', 14000]\n",
      "['Product A', 42000]\n",
      "['Product A', 168000]\n",
      "['Product B', 10000]\n",
      "['Product B', 30000]\n",
      "['Product B', 120000]\n",
      "['Product B', 11000]\n",
      "['Product B', 33000]\n",
      "['Product B', 132000]\n",
      "['Product B', 12000]\n",
      "['Product B', 36000]\n",
      "['Product B', 144000]\n",
      "['Product B', 13000]\n",
      "['Product B', 39000]\n",
      "['Product B', 156000]\n",
      "['Product B', 14000]\n",
      "['Product B', 42000]\n",
      "['Product B', 168000]\n"
     ]
    }
   ],
   "source": [
    "for prod in products:\n",
    "    for sales in exp_sales:\n",
    "        for t_hor in time_horizon:\n",
    "            print ([prod, sales * t_hor])"
   ]
  },
  {
   "cell_type": "code",
   "execution_count": 22,
   "metadata": {},
   "outputs": [
    {
     "name": "stdout",
     "output_type": "stream",
     "text": [
      "Expected saled from the period of 1 months(s) for Product A: $10000\n",
      "Expected saled from the period of 3 months(s) for Product A: $30000\n",
      "Expected saled from the period of 12 months(s) for Product A: $120000\n",
      "Expected saled from the period of 1 months(s) for Product A: $11000\n",
      "Expected saled from the period of 3 months(s) for Product A: $33000\n",
      "Expected saled from the period of 12 months(s) for Product A: $132000\n",
      "Expected saled from the period of 1 months(s) for Product A: $12000\n",
      "Expected saled from the period of 3 months(s) for Product A: $36000\n",
      "Expected saled from the period of 12 months(s) for Product A: $144000\n",
      "Expected saled from the period of 1 months(s) for Product A: $13000\n",
      "Expected saled from the period of 3 months(s) for Product A: $39000\n",
      "Expected saled from the period of 12 months(s) for Product A: $156000\n",
      "Expected saled from the period of 1 months(s) for Product A: $14000\n",
      "Expected saled from the period of 3 months(s) for Product A: $42000\n",
      "Expected saled from the period of 12 months(s) for Product A: $168000\n",
      "Expected saled from the period of 1 months(s) for Product B: $10000\n",
      "Expected saled from the period of 3 months(s) for Product B: $30000\n",
      "Expected saled from the period of 12 months(s) for Product B: $120000\n",
      "Expected saled from the period of 1 months(s) for Product B: $11000\n",
      "Expected saled from the period of 3 months(s) for Product B: $33000\n",
      "Expected saled from the period of 12 months(s) for Product B: $132000\n",
      "Expected saled from the period of 1 months(s) for Product B: $12000\n",
      "Expected saled from the period of 3 months(s) for Product B: $36000\n",
      "Expected saled from the period of 12 months(s) for Product B: $144000\n",
      "Expected saled from the period of 1 months(s) for Product B: $13000\n",
      "Expected saled from the period of 3 months(s) for Product B: $39000\n",
      "Expected saled from the period of 12 months(s) for Product B: $156000\n",
      "Expected saled from the period of 1 months(s) for Product B: $14000\n",
      "Expected saled from the period of 3 months(s) for Product B: $42000\n",
      "Expected saled from the period of 12 months(s) for Product B: $168000\n"
     ]
    }
   ],
   "source": [
    "for prod in products:\n",
    "    for sales in exp_sales:\n",
    "        for t_hor in time_horizon:\n",
    "            print (\"Expected saled from the period of {0} months(s) for {1}: ${total_sales}\" .format(t_hor, prod, total_sales = sales * t_hor))"
   ]
  },
  {
   "cell_type": "code",
   "execution_count": 24,
   "metadata": {},
   "outputs": [
    {
     "name": "stdout",
     "output_type": "stream",
     "text": [
      "0\n",
      "2\n",
      "4\n",
      "6\n",
      "8\n"
     ]
    }
   ],
   "source": [
    "for i in range(10):\n",
    "    if i %2  == 0:\n",
    "        print (i)"
   ]
  },
  {
   "cell_type": "markdown",
   "metadata": {},
   "source": [
    "## List Comprehension"
   ]
  },
  {
   "cell_type": "code",
   "execution_count": 25,
   "metadata": {},
   "outputs": [],
   "source": [
    "numbers = [1, 3, 5, 7, 9]"
   ]
  },
  {
   "cell_type": "code",
   "execution_count": 26,
   "metadata": {},
   "outputs": [
    {
     "name": "stdout",
     "output_type": "stream",
     "text": [
      "[2, 6, 10, 14, 18]\n"
     ]
    }
   ],
   "source": [
    "new_numbers = []\n",
    "for num in numbers:\n",
    "    new_numbers.append(num * 2)\n",
    "print(new_numbers)"
   ]
  },
  {
   "cell_type": "code",
   "execution_count": 27,
   "metadata": {},
   "outputs": [
    {
     "name": "stdout",
     "output_type": "stream",
     "text": [
      "[2, 6, 10, 14, 18]\n"
     ]
    }
   ],
   "source": [
    "# EZ WAY\n",
    "new_numbers = [num * 2 for num in numbers]\n",
    "print(new_numbers)"
   ]
  },
  {
   "cell_type": "code",
   "execution_count": 30,
   "metadata": {},
   "outputs": [
    {
     "name": "stdout",
     "output_type": "stream",
     "text": [
      "0 1 2 3 4 1 2 3 4 5 "
     ]
    }
   ],
   "source": [
    "for i in range (2):\n",
    "    for j in range (5):\n",
    "        print(i + j, end = \" \")"
   ]
  },
  {
   "cell_type": "code",
   "execution_count": 36,
   "metadata": {},
   "outputs": [
    {
     "name": "stdout",
     "output_type": "stream",
     "text": [
      "[0, 1, 2, 3, 4, 1, 2, 3, 4, 5]\n"
     ]
    }
   ],
   "source": [
    "# EZ WAY\n",
    "new_range = [i + j for i in range(2) for j in range(5)]\n",
    "print(new_range)"
   ]
  },
  {
   "cell_type": "code",
   "execution_count": 37,
   "metadata": {},
   "outputs": [
    {
     "name": "stdout",
     "output_type": "stream",
     "text": [
      "[[0, 1], [1, 2], [2, 3], [3, 4], [4, 5]]\n"
     ]
    }
   ],
   "source": [
    "new_range = [[i + j for i in range(2)] for j in range(5)]\n",
    "print(new_range)"
   ]
  },
  {
   "cell_type": "code",
   "execution_count": 40,
   "metadata": {},
   "outputs": [
    {
     "name": "stdout",
     "output_type": "stream",
     "text": [
      "[1, 27, 125, 343, 729]\n"
     ]
    }
   ],
   "source": [
    "example = [num ** 3 for num in range(1,11) if num % 2 != 0]\n",
    "print(example)"
   ]
  },
  {
   "cell_type": "code",
   "execution_count": 62,
   "metadata": {},
   "outputs": [
    {
     "name": "stdout",
     "output_type": "stream",
     "text": [
      "Chair_Type_1 100000\n",
      "Chair_Type_1 150000\n",
      "Chair_Type_1 130000\n",
      "Chair_Type_1 120000\n",
      "Chair_Type_1 180000\n",
      "Chair_Type_1 156000\n",
      "Chair_Type_1 135000\n",
      "Chair_Type_1 202500\n",
      "Chair_Type_1 175500\n",
      "Chair_Type_1 150000\n",
      "Chair_Type_1 225000\n",
      "Chair_Type_1 195000\n",
      "Chair_Type_2 100000\n",
      "Chair_Type_2 150000\n",
      "Chair_Type_2 130000\n",
      "Chair_Type_2 120000\n",
      "Chair_Type_2 180000\n",
      "Chair_Type_2 156000\n",
      "Chair_Type_2 135000\n",
      "Chair_Type_2 202500\n",
      "Chair_Type_2 175500\n",
      "Chair_Type_2 150000\n",
      "Chair_Type_2 225000\n",
      "Chair_Type_2 195000\n",
      "Chair_Type_3 100000\n",
      "Chair_Type_3 150000\n",
      "Chair_Type_3 130000\n",
      "Chair_Type_3 120000\n",
      "Chair_Type_3 180000\n",
      "Chair_Type_3 156000\n",
      "Chair_Type_3 135000\n",
      "Chair_Type_3 202500\n",
      "Chair_Type_3 175500\n",
      "Chair_Type_3 150000\n",
      "Chair_Type_3 225000\n",
      "Chair_Type_3 195000\n",
      "Chair_Type_4 100000\n",
      "Chair_Type_4 150000\n",
      "Chair_Type_4 130000\n",
      "Chair_Type_4 120000\n",
      "Chair_Type_4 180000\n",
      "Chair_Type_4 156000\n",
      "Chair_Type_4 135000\n",
      "Chair_Type_4 202500\n",
      "Chair_Type_4 175500\n",
      "Chair_Type_4 150000\n",
      "Chair_Type_4 225000\n",
      "Chair_Type_4 195000\n"
     ]
    }
   ],
   "source": [
    "products_on_sale = ['Chair_Type_1', 'Chair_Type_2', 'Chair_Type_3', 'Chair_Type_4']\n",
    "sale_prices = [100, 120, 135, 150]\n",
    "quantities = [1000, 1500, 1300]\n",
    "sales_revenue = filter(None,[print(chair_type, price * quantity) for chair_type in products_on_sale for price in sale_prices for quantity in quantities])\n"
   ]
  },
  {
   "cell_type": "code",
   "execution_count": null,
   "metadata": {},
   "outputs": [
    {
     "name": "stdout",
     "output_type": "stream",
     "text": [
      "[20, 40, 60, 80, 100]\n"
     ]
    }
   ],
   "source": [
    "print([num * 10 for num in list(range(1, 11)) if num % 2 == 0])"
   ]
  },
  {
   "cell_type": "code",
   "execution_count": 69,
   "metadata": {},
   "outputs": [
    {
     "name": "stdout",
     "output_type": "stream",
     "text": [
      "[20, 40, 60, 80, 100]\n"
     ]
    }
   ],
   "source": [
    "numbers = []\n",
    "for num in range(1, 11):\n",
    "    if num % 2 == 0:\n",
    "        numbers.append(num*10)\n",
    "print(numbers)"
   ]
  },
  {
   "cell_type": "code",
   "execution_count": 71,
   "metadata": {},
   "outputs": [
    {
     "name": "stdout",
     "output_type": "stream",
     "text": [
      "['None', 20, 'None', 40, 'None', 60, 'None', 80, 'None', 100]\n"
     ]
    }
   ],
   "source": [
    "print([num * 10 if num % 2 == 0 else \"None\" for num in list(range(1, 11))])"
   ]
  },
  {
   "cell_type": "code",
   "execution_count": null,
   "metadata": {},
   "outputs": [],
   "source": []
  }
 ],
 "metadata": {
  "kernelspec": {
   "display_name": "Python 3",
   "language": "python",
   "name": "python3"
  },
  "language_info": {
   "codemirror_mode": {
    "name": "ipython",
    "version": 3
   },
   "file_extension": ".py",
   "mimetype": "text/x-python",
   "name": "python",
   "nbconvert_exporter": "python",
   "pygments_lexer": "ipython3",
   "version": "3.13.0"
  }
 },
 "nbformat": 4,
 "nbformat_minor": 2
}
