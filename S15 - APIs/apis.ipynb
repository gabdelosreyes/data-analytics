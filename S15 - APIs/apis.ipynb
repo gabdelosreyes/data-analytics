{
 "cells": [
  {
   "cell_type": "code",
   "execution_count": 2,
   "metadata": {},
   "outputs": [],
   "source": [
    "base_url = \"https://v6.exchangerate-api.com/v6/a5c0fb64541786582c210d8e/latest/USD\""
   ]
  },
  {
   "cell_type": "code",
   "execution_count": 8,
   "metadata": {},
   "outputs": [],
   "source": [
    "import requests"
   ]
  },
  {
   "cell_type": "code",
   "execution_count": 9,
   "metadata": {},
   "outputs": [],
   "source": [
    "response = requests.get(base_url)"
   ]
  },
  {
   "cell_type": "code",
   "execution_count": 10,
   "metadata": {},
   "outputs": [
    {
     "data": {
      "text/plain": [
       "True"
      ]
     },
     "execution_count": 10,
     "metadata": {},
     "output_type": "execute_result"
    }
   ],
   "source": [
    "response.ok"
   ]
  },
  {
   "cell_type": "code",
   "execution_count": 11,
   "metadata": {},
   "outputs": [
    {
     "data": {
      "text/plain": [
       "200"
      ]
     },
     "execution_count": 11,
     "metadata": {},
     "output_type": "execute_result"
    }
   ],
   "source": [
    "response.status_code"
   ]
  },
  {
   "cell_type": "code",
   "execution_count": 13,
   "metadata": {},
   "outputs": [
    {
     "data": {
      "text/plain": [
       "'{\\n \"result\":\"success\",\\n \"documentation\":\"https://www.exchangerate-api.com/docs\",\\n \"terms_of_use\":\"https://www.exchangerate-api.com/terms\",\\n \"time_last_update_unix\":1733011201,\\n \"time_last_update_utc\":\"Sun, 01 Dec 2024 00:00:01 +0000\",\\n \"time_next_update_unix\":1733097601,\\n \"time_next_update_utc\":\"Mon, 02 Dec 2024 00:00:01 +0000\",\\n \"base_code\":\"USD\",\\n \"conversion_rates\":{\\n  \"USD\":1,\\n  \"AED\":3.6725,\\n  \"AFN\":67.9591,\\n  \"ALL\":93.2900,\\n  \"AMD\":394.3481,\\n  \"ANG\":1.7900,\\n  \"AOA\":920.3089,\\n  \"ARS\":1011.7500,\\n  \"AUD\":1.5366,\\n  \"AWG\":1.7900,\\n  \"AZN\":1.7002,\\n  \"BAM\":1.8510,\\n  \"BBD\":2.0000,\\n  \"BDT\":119.5120,\\n  \"BGN\":1.8510,\\n  \"BHD\":0.3760,\\n  \"BIF\":2927.8997,\\n  \"BMD\":1.0000,\\n  \"BND\":1.3403,\\n  \"BOB\":6.9270,\\n  \"BRL\":6.0114,\\n  \"BSD\":1.0000,\\n  \"BTN\":84.5831,\\n  \"BWP\":13.6533,\\n  \"BYN\":3.2845,\\n  \"BZD\":2.0000,\\n  \"CAD\":1.4003,\\n  \"CDF\":2853.9964,\\n  \"CHF\":0.8811,\\n  \"CLP\":978.4933,\\n  \"CNY\":7.2479,\\n  \"COP\":4392.2622,\\n  \"CRC\":509.9301,\\n  \"CUP\":24.0000,\\n  \"CVE\":104.3548,\\n  \"CZK\":23.9161,\\n  \"DJF\":177.7210,\\n  \"DKK\":7.0610,\\n  \"DOP\":60.3100,\\n  \"DZD\":133.6137,\\n  \"EGP\":49.5933,\\n  \"ERN\":15.0000,\\n  \"ETB\":124.6405,\\n  \"EUR\":0.9464,\\n  \"FJD\":2.2706,\\n  \"FKP\":0.7870,\\n  \"FOK\":7.0610,\\n  \"GBP\":0.7870,\\n  \"GEL\":2.7809,\\n  \"GGP\":0.7870,\\n  \"GHS\":15.3623,\\n  \"GIP\":0.7870,\\n  \"GMD\":71.8807,\\n  \"GNF\":8599.0574,\\n  \"GTQ\":7.7146,\\n  \"GYD\":209.1908,\\n  \"HKD\":7.7829,\\n  \"HNL\":25.2950,\\n  \"HRK\":7.1307,\\n  \"HTG\":131.0828,\\n  \"HUF\":390.6186,\\n  \"IDR\":15862.8979,\\n  \"ILS\":3.6354,\\n  \"IMP\":0.7870,\\n  \"INR\":84.5832,\\n  \"IQD\":1311.9279,\\n  \"IRR\":41970.8734,\\n  \"ISK\":137.9325,\\n  \"JEP\":0.7870,\\n  \"JMD\":158.0504,\\n  \"JOD\":0.7090,\\n  \"JPY\":150.0851,\\n  \"KES\":129.5526,\\n  \"KGS\":86.0959,\\n  \"KHR\":4036.0348,\\n  \"KID\":1.5366,\\n  \"KMF\":465.5983,\\n  \"KRW\":1395.0371,\\n  \"KWD\":0.3074,\\n  \"KYD\":0.8333,\\n  \"KZT\":515.0123,\\n  \"LAK\":21928.4975,\\n  \"LBP\":89500.0000,\\n  \"LKR\":290.7001,\\n  \"LRD\":179.3015,\\n  \"LSL\":18.0632,\\n  \"LYD\":4.8935,\\n  \"MAD\":10.0037,\\n  \"MDL\":18.2949,\\n  \"MGA\":4662.2767,\\n  \"MKD\":58.2585,\\n  \"MMK\":2101.9076,\\n  \"MNT\":3407.6910,\\n  \"MOP\":8.0161,\\n  \"MRU\":39.9147,\\n  \"MUR\":46.3112,\\n  \"MVR\":15.4532,\\n  \"MWK\":1744.8235,\\n  \"MXN\":20.3996,\\n  \"MYR\":4.4424,\\n  \"MZN\":64.3253,\\n  \"NAD\":18.0632,\\n  \"NGN\":1680.1256,\\n  \"NIO\":36.7912,\\n  \"NOK\":11.0544,\\n  \"NPR\":135.3330,\\n  \"NZD\":1.6896,\\n  \"OMR\":0.3845,\\n  \"PAB\":1.0000,\\n  \"PEN\":3.7580,\\n  \"PGK\":3.9991,\\n  \"PHP\":58.6454,\\n  \"PKR\":278.0244,\\n  \"PLN\":4.0716,\\n  \"PYG\":7838.9966,\\n  \"QAR\":3.6400,\\n  \"RON\":4.7153,\\n  \"RSD\":110.8467,\\n  \"RUB\":107.6229,\\n  \"RWF\":1381.8918,\\n  \"SAR\":3.7500,\\n  \"SBD\":8.4958,\\n  \"SCR\":13.7716,\\n  \"SDG\":509.3621,\\n  \"SEK\":10.9074,\\n  \"SGD\":1.3403,\\n  \"SHP\":0.7870,\\n  \"SLE\":22.7323,\\n  \"SLL\":22732.2912,\\n  \"SOS\":571.2830,\\n  \"SRD\":35.5502,\\n  \"SSP\":3680.5120,\\n  \"STN\":23.1868,\\n  \"SYP\":12913.9492,\\n  \"SZL\":18.0632,\\n  \"THB\":34.3031,\\n  \"TJS\":10.9105,\\n  \"TMT\":3.5000,\\n  \"TND\":3.1444,\\n  \"TOP\":2.3748,\\n  \"TRY\":34.6968,\\n  \"TTD\":6.7510,\\n  \"TVD\":1.5366,\\n  \"TWD\":32.4731,\\n  \"TZS\":2639.7151,\\n  \"UAH\":41.5967,\\n  \"UGX\":3693.3473,\\n  \"UYU\":42.8215,\\n  \"UZS\":12835.6422,\\n  \"VES\":47.6074,\\n  \"VND\":25374.0305,\\n  \"VUV\":118.7708,\\n  \"WST\":2.7717,\\n  \"XAF\":620.7977,\\n  \"XCD\":2.7000,\\n  \"XDR\":0.7598,\\n  \"XOF\":620.7977,\\n  \"XPF\":112.9358,\\n  \"YER\":249.5891,\\n  \"ZAR\":18.0632,\\n  \"ZMW\":27.1459,\\n  \"ZWL\":25.4513\\n }\\n}'"
      ]
     },
     "execution_count": 13,
     "metadata": {},
     "output_type": "execute_result"
    }
   ],
   "source": [
    "response.text"
   ]
  },
  {
   "cell_type": "code",
   "execution_count": 14,
   "metadata": {},
   "outputs": [
    {
     "data": {
      "text/plain": [
       "b'{\\n \"result\":\"success\",\\n \"documentation\":\"https://www.exchangerate-api.com/docs\",\\n \"terms_of_use\":\"https://www.exchangerate-api.com/terms\",\\n \"time_last_update_unix\":1733011201,\\n \"time_last_update_utc\":\"Sun, 01 Dec 2024 00:00:01 +0000\",\\n \"time_next_update_unix\":1733097601,\\n \"time_next_update_utc\":\"Mon, 02 Dec 2024 00:00:01 +0000\",\\n \"base_code\":\"USD\",\\n \"conversion_rates\":{\\n  \"USD\":1,\\n  \"AED\":3.6725,\\n  \"AFN\":67.9591,\\n  \"ALL\":93.2900,\\n  \"AMD\":394.3481,\\n  \"ANG\":1.7900,\\n  \"AOA\":920.3089,\\n  \"ARS\":1011.7500,\\n  \"AUD\":1.5366,\\n  \"AWG\":1.7900,\\n  \"AZN\":1.7002,\\n  \"BAM\":1.8510,\\n  \"BBD\":2.0000,\\n  \"BDT\":119.5120,\\n  \"BGN\":1.8510,\\n  \"BHD\":0.3760,\\n  \"BIF\":2927.8997,\\n  \"BMD\":1.0000,\\n  \"BND\":1.3403,\\n  \"BOB\":6.9270,\\n  \"BRL\":6.0114,\\n  \"BSD\":1.0000,\\n  \"BTN\":84.5831,\\n  \"BWP\":13.6533,\\n  \"BYN\":3.2845,\\n  \"BZD\":2.0000,\\n  \"CAD\":1.4003,\\n  \"CDF\":2853.9964,\\n  \"CHF\":0.8811,\\n  \"CLP\":978.4933,\\n  \"CNY\":7.2479,\\n  \"COP\":4392.2622,\\n  \"CRC\":509.9301,\\n  \"CUP\":24.0000,\\n  \"CVE\":104.3548,\\n  \"CZK\":23.9161,\\n  \"DJF\":177.7210,\\n  \"DKK\":7.0610,\\n  \"DOP\":60.3100,\\n  \"DZD\":133.6137,\\n  \"EGP\":49.5933,\\n  \"ERN\":15.0000,\\n  \"ETB\":124.6405,\\n  \"EUR\":0.9464,\\n  \"FJD\":2.2706,\\n  \"FKP\":0.7870,\\n  \"FOK\":7.0610,\\n  \"GBP\":0.7870,\\n  \"GEL\":2.7809,\\n  \"GGP\":0.7870,\\n  \"GHS\":15.3623,\\n  \"GIP\":0.7870,\\n  \"GMD\":71.8807,\\n  \"GNF\":8599.0574,\\n  \"GTQ\":7.7146,\\n  \"GYD\":209.1908,\\n  \"HKD\":7.7829,\\n  \"HNL\":25.2950,\\n  \"HRK\":7.1307,\\n  \"HTG\":131.0828,\\n  \"HUF\":390.6186,\\n  \"IDR\":15862.8979,\\n  \"ILS\":3.6354,\\n  \"IMP\":0.7870,\\n  \"INR\":84.5832,\\n  \"IQD\":1311.9279,\\n  \"IRR\":41970.8734,\\n  \"ISK\":137.9325,\\n  \"JEP\":0.7870,\\n  \"JMD\":158.0504,\\n  \"JOD\":0.7090,\\n  \"JPY\":150.0851,\\n  \"KES\":129.5526,\\n  \"KGS\":86.0959,\\n  \"KHR\":4036.0348,\\n  \"KID\":1.5366,\\n  \"KMF\":465.5983,\\n  \"KRW\":1395.0371,\\n  \"KWD\":0.3074,\\n  \"KYD\":0.8333,\\n  \"KZT\":515.0123,\\n  \"LAK\":21928.4975,\\n  \"LBP\":89500.0000,\\n  \"LKR\":290.7001,\\n  \"LRD\":179.3015,\\n  \"LSL\":18.0632,\\n  \"LYD\":4.8935,\\n  \"MAD\":10.0037,\\n  \"MDL\":18.2949,\\n  \"MGA\":4662.2767,\\n  \"MKD\":58.2585,\\n  \"MMK\":2101.9076,\\n  \"MNT\":3407.6910,\\n  \"MOP\":8.0161,\\n  \"MRU\":39.9147,\\n  \"MUR\":46.3112,\\n  \"MVR\":15.4532,\\n  \"MWK\":1744.8235,\\n  \"MXN\":20.3996,\\n  \"MYR\":4.4424,\\n  \"MZN\":64.3253,\\n  \"NAD\":18.0632,\\n  \"NGN\":1680.1256,\\n  \"NIO\":36.7912,\\n  \"NOK\":11.0544,\\n  \"NPR\":135.3330,\\n  \"NZD\":1.6896,\\n  \"OMR\":0.3845,\\n  \"PAB\":1.0000,\\n  \"PEN\":3.7580,\\n  \"PGK\":3.9991,\\n  \"PHP\":58.6454,\\n  \"PKR\":278.0244,\\n  \"PLN\":4.0716,\\n  \"PYG\":7838.9966,\\n  \"QAR\":3.6400,\\n  \"RON\":4.7153,\\n  \"RSD\":110.8467,\\n  \"RUB\":107.6229,\\n  \"RWF\":1381.8918,\\n  \"SAR\":3.7500,\\n  \"SBD\":8.4958,\\n  \"SCR\":13.7716,\\n  \"SDG\":509.3621,\\n  \"SEK\":10.9074,\\n  \"SGD\":1.3403,\\n  \"SHP\":0.7870,\\n  \"SLE\":22.7323,\\n  \"SLL\":22732.2912,\\n  \"SOS\":571.2830,\\n  \"SRD\":35.5502,\\n  \"SSP\":3680.5120,\\n  \"STN\":23.1868,\\n  \"SYP\":12913.9492,\\n  \"SZL\":18.0632,\\n  \"THB\":34.3031,\\n  \"TJS\":10.9105,\\n  \"TMT\":3.5000,\\n  \"TND\":3.1444,\\n  \"TOP\":2.3748,\\n  \"TRY\":34.6968,\\n  \"TTD\":6.7510,\\n  \"TVD\":1.5366,\\n  \"TWD\":32.4731,\\n  \"TZS\":2639.7151,\\n  \"UAH\":41.5967,\\n  \"UGX\":3693.3473,\\n  \"UYU\":42.8215,\\n  \"UZS\":12835.6422,\\n  \"VES\":47.6074,\\n  \"VND\":25374.0305,\\n  \"VUV\":118.7708,\\n  \"WST\":2.7717,\\n  \"XAF\":620.7977,\\n  \"XCD\":2.7000,\\n  \"XDR\":0.7598,\\n  \"XOF\":620.7977,\\n  \"XPF\":112.9358,\\n  \"YER\":249.5891,\\n  \"ZAR\":18.0632,\\n  \"ZMW\":27.1459,\\n  \"ZWL\":25.4513\\n }\\n}'"
      ]
     },
     "execution_count": 14,
     "metadata": {},
     "output_type": "execute_result"
    }
   ],
   "source": [
    "response.content"
   ]
  },
  {
   "cell_type": "code",
   "execution_count": 16,
   "metadata": {},
   "outputs": [
    {
     "data": {
      "text/plain": [
       "{'result': 'success',\n",
       " 'documentation': 'https://www.exchangerate-api.com/docs',\n",
       " 'terms_of_use': 'https://www.exchangerate-api.com/terms',\n",
       " 'time_last_update_unix': 1733011201,\n",
       " 'time_last_update_utc': 'Sun, 01 Dec 2024 00:00:01 +0000',\n",
       " 'time_next_update_unix': 1733097601,\n",
       " 'time_next_update_utc': 'Mon, 02 Dec 2024 00:00:01 +0000',\n",
       " 'base_code': 'USD',\n",
       " 'conversion_rates': {'USD': 1,\n",
       "  'AED': 3.6725,\n",
       "  'AFN': 67.9591,\n",
       "  'ALL': 93.29,\n",
       "  'AMD': 394.3481,\n",
       "  'ANG': 1.79,\n",
       "  'AOA': 920.3089,\n",
       "  'ARS': 1011.75,\n",
       "  'AUD': 1.5366,\n",
       "  'AWG': 1.79,\n",
       "  'AZN': 1.7002,\n",
       "  'BAM': 1.851,\n",
       "  'BBD': 2.0,\n",
       "  'BDT': 119.512,\n",
       "  'BGN': 1.851,\n",
       "  'BHD': 0.376,\n",
       "  'BIF': 2927.8997,\n",
       "  'BMD': 1.0,\n",
       "  'BND': 1.3403,\n",
       "  'BOB': 6.927,\n",
       "  'BRL': 6.0114,\n",
       "  'BSD': 1.0,\n",
       "  'BTN': 84.5831,\n",
       "  'BWP': 13.6533,\n",
       "  'BYN': 3.2845,\n",
       "  'BZD': 2.0,\n",
       "  'CAD': 1.4003,\n",
       "  'CDF': 2853.9964,\n",
       "  'CHF': 0.8811,\n",
       "  'CLP': 978.4933,\n",
       "  'CNY': 7.2479,\n",
       "  'COP': 4392.2622,\n",
       "  'CRC': 509.9301,\n",
       "  'CUP': 24.0,\n",
       "  'CVE': 104.3548,\n",
       "  'CZK': 23.9161,\n",
       "  'DJF': 177.721,\n",
       "  'DKK': 7.061,\n",
       "  'DOP': 60.31,\n",
       "  'DZD': 133.6137,\n",
       "  'EGP': 49.5933,\n",
       "  'ERN': 15.0,\n",
       "  'ETB': 124.6405,\n",
       "  'EUR': 0.9464,\n",
       "  'FJD': 2.2706,\n",
       "  'FKP': 0.787,\n",
       "  'FOK': 7.061,\n",
       "  'GBP': 0.787,\n",
       "  'GEL': 2.7809,\n",
       "  'GGP': 0.787,\n",
       "  'GHS': 15.3623,\n",
       "  'GIP': 0.787,\n",
       "  'GMD': 71.8807,\n",
       "  'GNF': 8599.0574,\n",
       "  'GTQ': 7.7146,\n",
       "  'GYD': 209.1908,\n",
       "  'HKD': 7.7829,\n",
       "  'HNL': 25.295,\n",
       "  'HRK': 7.1307,\n",
       "  'HTG': 131.0828,\n",
       "  'HUF': 390.6186,\n",
       "  'IDR': 15862.8979,\n",
       "  'ILS': 3.6354,\n",
       "  'IMP': 0.787,\n",
       "  'INR': 84.5832,\n",
       "  'IQD': 1311.9279,\n",
       "  'IRR': 41970.8734,\n",
       "  'ISK': 137.9325,\n",
       "  'JEP': 0.787,\n",
       "  'JMD': 158.0504,\n",
       "  'JOD': 0.709,\n",
       "  'JPY': 150.0851,\n",
       "  'KES': 129.5526,\n",
       "  'KGS': 86.0959,\n",
       "  'KHR': 4036.0348,\n",
       "  'KID': 1.5366,\n",
       "  'KMF': 465.5983,\n",
       "  'KRW': 1395.0371,\n",
       "  'KWD': 0.3074,\n",
       "  'KYD': 0.8333,\n",
       "  'KZT': 515.0123,\n",
       "  'LAK': 21928.4975,\n",
       "  'LBP': 89500.0,\n",
       "  'LKR': 290.7001,\n",
       "  'LRD': 179.3015,\n",
       "  'LSL': 18.0632,\n",
       "  'LYD': 4.8935,\n",
       "  'MAD': 10.0037,\n",
       "  'MDL': 18.2949,\n",
       "  'MGA': 4662.2767,\n",
       "  'MKD': 58.2585,\n",
       "  'MMK': 2101.9076,\n",
       "  'MNT': 3407.691,\n",
       "  'MOP': 8.0161,\n",
       "  'MRU': 39.9147,\n",
       "  'MUR': 46.3112,\n",
       "  'MVR': 15.4532,\n",
       "  'MWK': 1744.8235,\n",
       "  'MXN': 20.3996,\n",
       "  'MYR': 4.4424,\n",
       "  'MZN': 64.3253,\n",
       "  'NAD': 18.0632,\n",
       "  'NGN': 1680.1256,\n",
       "  'NIO': 36.7912,\n",
       "  'NOK': 11.0544,\n",
       "  'NPR': 135.333,\n",
       "  'NZD': 1.6896,\n",
       "  'OMR': 0.3845,\n",
       "  'PAB': 1.0,\n",
       "  'PEN': 3.758,\n",
       "  'PGK': 3.9991,\n",
       "  'PHP': 58.6454,\n",
       "  'PKR': 278.0244,\n",
       "  'PLN': 4.0716,\n",
       "  'PYG': 7838.9966,\n",
       "  'QAR': 3.64,\n",
       "  'RON': 4.7153,\n",
       "  'RSD': 110.8467,\n",
       "  'RUB': 107.6229,\n",
       "  'RWF': 1381.8918,\n",
       "  'SAR': 3.75,\n",
       "  'SBD': 8.4958,\n",
       "  'SCR': 13.7716,\n",
       "  'SDG': 509.3621,\n",
       "  'SEK': 10.9074,\n",
       "  'SGD': 1.3403,\n",
       "  'SHP': 0.787,\n",
       "  'SLE': 22.7323,\n",
       "  'SLL': 22732.2912,\n",
       "  'SOS': 571.283,\n",
       "  'SRD': 35.5502,\n",
       "  'SSP': 3680.512,\n",
       "  'STN': 23.1868,\n",
       "  'SYP': 12913.9492,\n",
       "  'SZL': 18.0632,\n",
       "  'THB': 34.3031,\n",
       "  'TJS': 10.9105,\n",
       "  'TMT': 3.5,\n",
       "  'TND': 3.1444,\n",
       "  'TOP': 2.3748,\n",
       "  'TRY': 34.6968,\n",
       "  'TTD': 6.751,\n",
       "  'TVD': 1.5366,\n",
       "  'TWD': 32.4731,\n",
       "  'TZS': 2639.7151,\n",
       "  'UAH': 41.5967,\n",
       "  'UGX': 3693.3473,\n",
       "  'UYU': 42.8215,\n",
       "  'UZS': 12835.6422,\n",
       "  'VES': 47.6074,\n",
       "  'VND': 25374.0305,\n",
       "  'VUV': 118.7708,\n",
       "  'WST': 2.7717,\n",
       "  'XAF': 620.7977,\n",
       "  'XCD': 2.7,\n",
       "  'XDR': 0.7598,\n",
       "  'XOF': 620.7977,\n",
       "  'XPF': 112.9358,\n",
       "  'YER': 249.5891,\n",
       "  'ZAR': 18.0632,\n",
       "  'ZMW': 27.1459,\n",
       "  'ZWL': 25.4513}}"
      ]
     },
     "execution_count": 16,
     "metadata": {},
     "output_type": "execute_result"
    }
   ],
   "source": [
    "response.json()"
   ]
  },
  {
   "cell_type": "code",
   "execution_count": 17,
   "metadata": {},
   "outputs": [
    {
     "data": {
      "text/plain": [
       "dict"
      ]
     },
     "execution_count": 17,
     "metadata": {},
     "output_type": "execute_result"
    }
   ],
   "source": [
    "type(response.json())"
   ]
  },
  {
   "cell_type": "code",
   "execution_count": 18,
   "metadata": {},
   "outputs": [],
   "source": [
    "import json"
   ]
  },
  {
   "cell_type": "code",
   "execution_count": 20,
   "metadata": {},
   "outputs": [
    {
     "name": "stdout",
     "output_type": "stream",
     "text": [
      "{\n",
      "    \"result\": \"success\",\n",
      "    \"documentation\": \"https://www.exchangerate-api.com/docs\",\n",
      "    \"terms_of_use\": \"https://www.exchangerate-api.com/terms\",\n",
      "    \"time_last_update_unix\": 1733011201,\n",
      "    \"time_last_update_utc\": \"Sun, 01 Dec 2024 00:00:01 +0000\",\n",
      "    \"time_next_update_unix\": 1733097601,\n",
      "    \"time_next_update_utc\": \"Mon, 02 Dec 2024 00:00:01 +0000\",\n",
      "    \"base_code\": \"USD\",\n",
      "    \"conversion_rates\": {\n",
      "        \"USD\": 1,\n",
      "        \"AED\": 3.6725,\n",
      "        \"AFN\": 67.9591,\n",
      "        \"ALL\": 93.29,\n",
      "        \"AMD\": 394.3481,\n",
      "        \"ANG\": 1.79,\n",
      "        \"AOA\": 920.3089,\n",
      "        \"ARS\": 1011.75,\n",
      "        \"AUD\": 1.5366,\n",
      "        \"AWG\": 1.79,\n",
      "        \"AZN\": 1.7002,\n",
      "        \"BAM\": 1.851,\n",
      "        \"BBD\": 2.0,\n",
      "        \"BDT\": 119.512,\n",
      "        \"BGN\": 1.851,\n",
      "        \"BHD\": 0.376,\n",
      "        \"BIF\": 2927.8997,\n",
      "        \"BMD\": 1.0,\n",
      "        \"BND\": 1.3403,\n",
      "        \"BOB\": 6.927,\n",
      "        \"BRL\": 6.0114,\n",
      "        \"BSD\": 1.0,\n",
      "        \"BTN\": 84.5831,\n",
      "        \"BWP\": 13.6533,\n",
      "        \"BYN\": 3.2845,\n",
      "        \"BZD\": 2.0,\n",
      "        \"CAD\": 1.4003,\n",
      "        \"CDF\": 2853.9964,\n",
      "        \"CHF\": 0.8811,\n",
      "        \"CLP\": 978.4933,\n",
      "        \"CNY\": 7.2479,\n",
      "        \"COP\": 4392.2622,\n",
      "        \"CRC\": 509.9301,\n",
      "        \"CUP\": 24.0,\n",
      "        \"CVE\": 104.3548,\n",
      "        \"CZK\": 23.9161,\n",
      "        \"DJF\": 177.721,\n",
      "        \"DKK\": 7.061,\n",
      "        \"DOP\": 60.31,\n",
      "        \"DZD\": 133.6137,\n",
      "        \"EGP\": 49.5933,\n",
      "        \"ERN\": 15.0,\n",
      "        \"ETB\": 124.6405,\n",
      "        \"EUR\": 0.9464,\n",
      "        \"FJD\": 2.2706,\n",
      "        \"FKP\": 0.787,\n",
      "        \"FOK\": 7.061,\n",
      "        \"GBP\": 0.787,\n",
      "        \"GEL\": 2.7809,\n",
      "        \"GGP\": 0.787,\n",
      "        \"GHS\": 15.3623,\n",
      "        \"GIP\": 0.787,\n",
      "        \"GMD\": 71.8807,\n",
      "        \"GNF\": 8599.0574,\n",
      "        \"GTQ\": 7.7146,\n",
      "        \"GYD\": 209.1908,\n",
      "        \"HKD\": 7.7829,\n",
      "        \"HNL\": 25.295,\n",
      "        \"HRK\": 7.1307,\n",
      "        \"HTG\": 131.0828,\n",
      "        \"HUF\": 390.6186,\n",
      "        \"IDR\": 15862.8979,\n",
      "        \"ILS\": 3.6354,\n",
      "        \"IMP\": 0.787,\n",
      "        \"INR\": 84.5832,\n",
      "        \"IQD\": 1311.9279,\n",
      "        \"IRR\": 41970.8734,\n",
      "        \"ISK\": 137.9325,\n",
      "        \"JEP\": 0.787,\n",
      "        \"JMD\": 158.0504,\n",
      "        \"JOD\": 0.709,\n",
      "        \"JPY\": 150.0851,\n",
      "        \"KES\": 129.5526,\n",
      "        \"KGS\": 86.0959,\n",
      "        \"KHR\": 4036.0348,\n",
      "        \"KID\": 1.5366,\n",
      "        \"KMF\": 465.5983,\n",
      "        \"KRW\": 1395.0371,\n",
      "        \"KWD\": 0.3074,\n",
      "        \"KYD\": 0.8333,\n",
      "        \"KZT\": 515.0123,\n",
      "        \"LAK\": 21928.4975,\n",
      "        \"LBP\": 89500.0,\n",
      "        \"LKR\": 290.7001,\n",
      "        \"LRD\": 179.3015,\n",
      "        \"LSL\": 18.0632,\n",
      "        \"LYD\": 4.8935,\n",
      "        \"MAD\": 10.0037,\n",
      "        \"MDL\": 18.2949,\n",
      "        \"MGA\": 4662.2767,\n",
      "        \"MKD\": 58.2585,\n",
      "        \"MMK\": 2101.9076,\n",
      "        \"MNT\": 3407.691,\n",
      "        \"MOP\": 8.0161,\n",
      "        \"MRU\": 39.9147,\n",
      "        \"MUR\": 46.3112,\n",
      "        \"MVR\": 15.4532,\n",
      "        \"MWK\": 1744.8235,\n",
      "        \"MXN\": 20.3996,\n",
      "        \"MYR\": 4.4424,\n",
      "        \"MZN\": 64.3253,\n",
      "        \"NAD\": 18.0632,\n",
      "        \"NGN\": 1680.1256,\n",
      "        \"NIO\": 36.7912,\n",
      "        \"NOK\": 11.0544,\n",
      "        \"NPR\": 135.333,\n",
      "        \"NZD\": 1.6896,\n",
      "        \"OMR\": 0.3845,\n",
      "        \"PAB\": 1.0,\n",
      "        \"PEN\": 3.758,\n",
      "        \"PGK\": 3.9991,\n",
      "        \"PHP\": 58.6454,\n",
      "        \"PKR\": 278.0244,\n",
      "        \"PLN\": 4.0716,\n",
      "        \"PYG\": 7838.9966,\n",
      "        \"QAR\": 3.64,\n",
      "        \"RON\": 4.7153,\n",
      "        \"RSD\": 110.8467,\n",
      "        \"RUB\": 107.6229,\n",
      "        \"RWF\": 1381.8918,\n",
      "        \"SAR\": 3.75,\n",
      "        \"SBD\": 8.4958,\n",
      "        \"SCR\": 13.7716,\n",
      "        \"SDG\": 509.3621,\n",
      "        \"SEK\": 10.9074,\n",
      "        \"SGD\": 1.3403,\n",
      "        \"SHP\": 0.787,\n",
      "        \"SLE\": 22.7323,\n",
      "        \"SLL\": 22732.2912,\n",
      "        \"SOS\": 571.283,\n",
      "        \"SRD\": 35.5502,\n",
      "        \"SSP\": 3680.512,\n",
      "        \"STN\": 23.1868,\n",
      "        \"SYP\": 12913.9492,\n",
      "        \"SZL\": 18.0632,\n",
      "        \"THB\": 34.3031,\n",
      "        \"TJS\": 10.9105,\n",
      "        \"TMT\": 3.5,\n",
      "        \"TND\": 3.1444,\n",
      "        \"TOP\": 2.3748,\n",
      "        \"TRY\": 34.6968,\n",
      "        \"TTD\": 6.751,\n",
      "        \"TVD\": 1.5366,\n",
      "        \"TWD\": 32.4731,\n",
      "        \"TZS\": 2639.7151,\n",
      "        \"UAH\": 41.5967,\n",
      "        \"UGX\": 3693.3473,\n",
      "        \"UYU\": 42.8215,\n",
      "        \"UZS\": 12835.6422,\n",
      "        \"VES\": 47.6074,\n",
      "        \"VND\": 25374.0305,\n",
      "        \"VUV\": 118.7708,\n",
      "        \"WST\": 2.7717,\n",
      "        \"XAF\": 620.7977,\n",
      "        \"XCD\": 2.7,\n",
      "        \"XDR\": 0.7598,\n",
      "        \"XOF\": 620.7977,\n",
      "        \"XPF\": 112.9358,\n",
      "        \"YER\": 249.5891,\n",
      "        \"ZAR\": 18.0632,\n",
      "        \"ZMW\": 27.1459,\n",
      "        \"ZWL\": 25.4513\n",
      "    }\n",
      "}\n"
     ]
    }
   ],
   "source": [
    "print(json.dumps(response.json(), indent = 4))"
   ]
  },
  {
   "cell_type": "code",
   "execution_count": 21,
   "metadata": {},
   "outputs": [
    {
     "data": {
      "text/plain": [
       "dict_keys(['result', 'documentation', 'terms_of_use', 'time_last_update_unix', 'time_last_update_utc', 'time_next_update_unix', 'time_next_update_utc', 'base_code', 'conversion_rates'])"
      ]
     },
     "execution_count": 21,
     "metadata": {},
     "output_type": "execute_result"
    }
   ],
   "source": [
    "response.json().keys()"
   ]
  },
  {
   "cell_type": "code",
   "execution_count": null,
   "metadata": {},
   "outputs": [],
   "source": []
  }
 ],
 "metadata": {
  "kernelspec": {
   "display_name": "Python 3",
   "language": "python",
   "name": "python3"
  },
  "language_info": {
   "codemirror_mode": {
    "name": "ipython",
    "version": 3
   },
   "file_extension": ".py",
   "mimetype": "text/x-python",
   "name": "python",
   "nbconvert_exporter": "python",
   "pygments_lexer": "ipython3",
   "version": "3.13.0"
  }
 },
 "nbformat": 4,
 "nbformat_minor": 2
}
