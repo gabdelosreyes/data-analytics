{
 "cells": [
  {
   "cell_type": "code",
   "execution_count": 1,
   "metadata": {},
   "outputs": [],
   "source": [
    "import numpy as np"
   ]
  },
  {
   "cell_type": "code",
   "execution_count": 2,
   "metadata": {},
   "outputs": [],
   "source": [
    "file_name = 'Lending-Company-Numeric-Data.csv'"
   ]
  },
  {
   "cell_type": "code",
   "execution_count": 3,
   "metadata": {},
   "outputs": [
    {
     "data": {
      "text/plain": [
       "array([[ 2000.,    40.,   365.,  3121.,  4241., 13621.],\n",
       "       [ 2000.,    40.,   365.,  3061.,  4171., 15041.],\n",
       "       [ 1000.,    40.,   365.,  2160.,  3280., 15340.],\n",
       "       ...,\n",
       "       [ 2000.,    40.,   365.,  4201.,  5001., 16600.],\n",
       "       [ 1000.,    40.,   365.,  2080.,  3320., 15600.],\n",
       "       [ 2000.,    40.,   365.,  4601.,  4601., 16600.]])"
      ]
     },
     "execution_count": 3,
     "metadata": {},
     "output_type": "execute_result"
    }
   ],
   "source": [
    "# Loads data faster, but cant handle nan (code breaks or gives error)\n",
    "lending_co_data_numeric_1 = np.loadtxt(file_name, delimiter = ',')\n",
    "lending_co_data_numeric_1"
   ]
  },
  {
   "cell_type": "code",
   "execution_count": 4,
   "metadata": {},
   "outputs": [
    {
     "data": {
      "text/plain": [
       "array([[ 2000.,    40.,   365.,  3121.,  4241., 13621.],\n",
       "       [ 2000.,    40.,   365.,  3061.,  4171., 15041.],\n",
       "       [ 1000.,    40.,   365.,  2160.,  3280., 15340.],\n",
       "       ...,\n",
       "       [ 2000.,    40.,   365.,  4201.,  5001., 16600.],\n",
       "       [ 1000.,    40.,   365.,  2080.,  3320., 15600.],\n",
       "       [ 2000.,    40.,   365.,  4601.,  4601., 16600.]])"
      ]
     },
     "execution_count": 4,
     "metadata": {},
     "output_type": "execute_result"
    }
   ],
   "source": [
    "# handles null/nan but much slower than .loadtxt\n",
    "lending_co_data_numeric_2 = np.genfromtxt(file_name, delimiter = ',')\n",
    "lending_co_data_numeric_2"
   ]
  },
  {
   "cell_type": "code",
   "execution_count": 5,
   "metadata": {},
   "outputs": [
    {
     "data": {
      "text/plain": [
       "True"
      ]
     },
     "execution_count": 5,
     "metadata": {},
     "output_type": "execute_result"
    }
   ],
   "source": [
    "# checks if the two generated variables are equal\n",
    "np.array_equal(lending_co_data_numeric_1, lending_co_data_numeric_2)"
   ]
  },
  {
   "cell_type": "code",
   "execution_count": 6,
   "metadata": {},
   "outputs": [],
   "source": [
    "nan_file_name = 'Lending-Company-Numeric-Data-NAN.csv'"
   ]
  },
  {
   "cell_type": "code",
   "execution_count": 7,
   "metadata": {},
   "outputs": [
    {
     "data": {
      "text/plain": [
       "array([[ 2000.,    40.,   365.,  3121.,  4241., 13621.],\n",
       "       [ 2000.,    40.,   365.,  3061.,  4171., 15041.],\n",
       "       [ 1000.,    40.,   365.,  2160.,  3280., 15340.],\n",
       "       ...,\n",
       "       [   nan,    40.,   365.,  4201.,  5001., 16600.],\n",
       "       [ 1000.,    40.,   365.,  2080.,  3320., 15600.],\n",
       "       [ 2000.,    40.,   365.,  4601.,  4601., 16600.]])"
      ]
     },
     "execution_count": 7,
     "metadata": {},
     "output_type": "execute_result"
    }
   ],
   "source": [
    "lending_co_data_numeric_nan1 = np.genfromtxt(nan_file_name, delimiter = ';')\n",
    "lending_co_data_numeric_nan1"
   ]
  },
  {
   "cell_type": "code",
   "execution_count": 8,
   "metadata": {},
   "outputs": [
    {
     "data": {
      "text/plain": [
       "array([nan, nan, nan, ..., nan, nan, nan])"
      ]
     },
     "execution_count": 8,
     "metadata": {},
     "output_type": "execute_result"
    }
   ],
   "source": [
    "lending_co_data_numeric_nan2 = np.genfromtxt(nan_file_name, delimiter = ',')\n",
    "lending_co_data_numeric_nan2"
   ]
  },
  {
   "cell_type": "markdown",
   "metadata": {},
   "source": [
    "### Partial Cleaning"
   ]
  },
  {
   "cell_type": "code",
   "execution_count": 9,
   "metadata": {},
   "outputs": [
    {
     "data": {
      "text/plain": [
       "array([[ 2000.,    40.,   365.,  3121.,  4241., 13621.],\n",
       "       [ 2000.,    40.,   365.,  3061.,  4171., 15041.],\n",
       "       [ 1000.,    40.,   365.,  2160.,  3280., 15340.],\n",
       "       ...,\n",
       "       [   nan,    40.,   365.,  4201.,  5001., 16600.],\n",
       "       [ 1000.,    40.,   365.,  2080.,  3320., 15600.],\n",
       "       [ 2000.,    40.,   365.,  4601.,  4601., 16600.]])"
      ]
     },
     "execution_count": 9,
     "metadata": {},
     "output_type": "execute_result"
    }
   ],
   "source": [
    "lending_co_data_numeric_nan = np.genfromtxt(nan_file_name, delimiter = ';')\n",
    "lending_co_data_numeric_nan"
   ]
  },
  {
   "cell_type": "code",
   "execution_count": 10,
   "metadata": {},
   "outputs": [
    {
     "data": {
      "text/plain": [
       "array([[ 1000.,    40.,   365.,  2160.,  3280., 15340.],\n",
       "       [ 2000.,    40.,   365.,  3041.,  4241., 15321.],\n",
       "       [ 2000.,    50.,   365.,  3470.,  4820., 13720.],\n",
       "       ...,\n",
       "       [ 2000.,    nan,   365.,  3081.,  4341., 16600.],\n",
       "       [ 2000.,    40.,   365.,  3401.,    nan, 16600.],\n",
       "       [ 2000.,    40.,   365.,    nan,  5440., 16600.]])"
      ]
     },
     "execution_count": 10,
     "metadata": {},
     "output_type": "execute_result"
    }
   ],
   "source": [
    "# skip header = disregard the first columns based on the input\n",
    "# skip footer = disregard the last columns based on the input\n",
    "lending_co_data_numeric_nan1 = np.genfromtxt(nan_file_name, \n",
    "                                             delimiter = ';',\n",
    "                                             skip_header=2,\n",
    "                                             skip_footer=3)\n",
    "lending_co_data_numeric_nan1"
   ]
  },
  {
   "cell_type": "code",
   "execution_count": 11,
   "metadata": {},
   "outputs": [
    {
     "data": {
      "text/plain": [
       "array([[ 1000.,    40., 15340.],\n",
       "       [ 2000.,    40., 15321.],\n",
       "       [ 2000.,    50., 13720.],\n",
       "       ...,\n",
       "       [ 2000.,    40., 16600.],\n",
       "       [ 2000.,    40., 16600.],\n",
       "       [   nan,    40., 16600.]])"
      ]
     },
     "execution_count": 11,
     "metadata": {},
     "output_type": "execute_result"
    }
   ],
   "source": [
    "#  use cols = set the cols u want to display or use\n",
    "lending_co_data_numeric_nan1 = np.genfromtxt(nan_file_name, \n",
    "                                             delimiter = ';',\n",
    "                                             usecols = (0,1,5),\n",
    "                                             skip_footer=2,\n",
    "                                             skip_header=2)\n",
    "lending_co_data_numeric_nan1"
   ]
  },
  {
   "cell_type": "code",
   "execution_count": 12,
   "metadata": {},
   "outputs": [
    {
     "name": "stdout",
     "output_type": "stream",
     "text": [
      "[1000. 2000. 2000. ... 2000. 2000.   nan]\n",
      "[40. 40. 50. ... 40. 40. 40.]\n",
      "[15340. 15321. 13720. ... 16600. 16600. 16600.]\n"
     ]
    }
   ],
   "source": [
    "#  unpack - set the value of cols in a variable\n",
    "lending_co_data_0, lending_co_data_1, lending_co_data_5 = np.genfromtxt(nan_file_name, \n",
    "                                             delimiter = ';',\n",
    "                                             usecols = (0,1,5),\n",
    "                                             skip_footer=2,\n",
    "                                             skip_header=2,\n",
    "                                             unpack=True)\n",
    "print(lending_co_data_0)\n",
    "print(lending_co_data_1)\n",
    "print(lending_co_data_5)"
   ]
  }
 ],
 "metadata": {
  "kernelspec": {
   "display_name": "Python 3",
   "language": "python",
   "name": "python3"
  },
  "language_info": {
   "codemirror_mode": {
    "name": "ipython",
    "version": 3
   },
   "file_extension": ".py",
   "mimetype": "text/x-python",
   "name": "python",
   "nbconvert_exporter": "python",
   "pygments_lexer": "ipython3",
   "version": "3.13.0"
  }
 },
 "nbformat": 4,
 "nbformat_minor": 2
}
