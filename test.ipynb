{
 "cells": [
  {
   "cell_type": "code",
   "execution_count": 1,
   "metadata": {},
   "outputs": [],
   "source": [
    "import pandas as pd"
   ]
  },
  {
   "cell_type": "code",
   "execution_count": 2,
   "metadata": {},
   "outputs": [],
   "source": [
    "import numpy as np"
   ]
  },
  {
   "cell_type": "code",
   "execution_count": 4,
   "metadata": {},
   "outputs": [
    {
     "name": "stdout",
     "output_type": "stream",
     "text": [
      "['Steve' 'Galio' 'Baccarat']\n"
     ]
    },
    {
     "data": {
      "text/plain": [
       "numpy.ndarray"
      ]
     },
     "execution_count": 4,
     "metadata": {},
     "output_type": "execute_result"
    }
   ],
   "source": [
    "employees = np.array([\"Steve\", \"Galio\", \"Baccarat\"])\n",
    "print(employees)\n",
    "type(employees)"
   ]
  },
  {
   "cell_type": "code",
   "execution_count": 7,
   "metadata": {},
   "outputs": [
    {
     "name": "stdout",
     "output_type": "stream",
     "text": [
      "0       Steve\n",
      "1       Galio\n",
      "2    Baccarat\n",
      "dtype: object\n"
     ]
    },
    {
     "data": {
      "text/plain": [
       "pandas.core.series.Series"
      ]
     },
     "execution_count": 7,
     "metadata": {},
     "output_type": "execute_result"
    }
   ],
   "source": [
    "series_employees = pd.Series(employees)\n",
    "print(series_employees)\n",
    "type(series_employees)"
   ]
  },
  {
   "cell_type": "code",
   "execution_count": 8,
   "metadata": {},
   "outputs": [
    {
     "name": "stdout",
     "output_type": "stream",
     "text": [
      "0             Amy White\n",
      "1          Jack Stewart\n",
      "2    Richard Lauderdale\n",
      "3          Sara Johnson\n",
      "dtype: object\n"
     ]
    }
   ],
   "source": [
    "employee_names = pd.Series([\"Amy White\", \"Jack Stewart\", \"Richard Lauderdale\", \"Sara Johnson\"])\n",
    "print(employee_names)"
   ]
  },
  {
   "cell_type": "code",
   "execution_count": 9,
   "metadata": {},
   "outputs": [
    {
     "name": "stdout",
     "output_type": "stream",
     "text": [
      "0             Amy White\n",
      "1          Jack Stewart\n",
      "2    Richard Lauderdale\n",
      "3          Sara Johnson\n",
      "dtype: object\n"
     ]
    }
   ],
   "source": [
    "employees = np.array([\"Amy White\", \"Jack Stewart\", \"Richard Lauderdale\", \"Sara Johnson\"])\n",
    "employee_names = pd.Series(employees)\n",
    "print(employee_names)"
   ]
  },
  {
   "cell_type": "code",
   "execution_count": 14,
   "metadata": {},
   "outputs": [
    {
     "name": "stdout",
     "output_type": "stream",
     "text": [
      "4\n"
     ]
    }
   ],
   "source": [
    "print(employee_names.size)"
   ]
  },
  {
   "cell_type": "code",
   "execution_count": 17,
   "metadata": {},
   "outputs": [
    {
     "name": "stdout",
     "output_type": "stream",
     "text": [
      "List of Employees\n"
     ]
    }
   ],
   "source": [
    "employee_names.name = \"List of Employees\"\n",
    "print(employee_names.name)"
   ]
  },
  {
   "cell_type": "code",
   "execution_count": 21,
   "metadata": {},
   "outputs": [
    {
     "name": "stdout",
     "output_type": "stream",
     "text": [
      "<class 'numpy.ndarray'>\n",
      "0     5\n",
      "1     8\n",
      "2     3\n",
      "3    10\n",
      "dtype: int64\n"
     ]
    }
   ],
   "source": [
    "work_experience_years = pd.Series([5,8,3,10])\n",
    "\n",
    "print(type(work_experience_years.to_numpy()))\n",
    "\n",
    "print(work_experience_years)"
   ]
  },
  {
   "cell_type": "code",
   "execution_count": 23,
   "metadata": {},
   "outputs": [
    {
     "data": {
      "text/plain": [
       "{'Prod A': 55000, 'Prod B': 65000, 'Prod C': 80000, 'Prod D': 90000}"
      ]
     },
     "execution_count": 23,
     "metadata": {},
     "output_type": "execute_result"
    }
   ],
   "source": [
    "prices_per_catergory = {\n",
    "    'Prod A' : 55000,\n",
    "    'Prod B' : 65000,\n",
    "    'Prod C' : 80000,\n",
    "    'Prod D' : 90000\n",
    "}\n",
    "prices_per_catergory"
   ]
  },
  {
   "cell_type": "code",
   "execution_count": 24,
   "metadata": {},
   "outputs": [
    {
     "data": {
      "text/plain": [
       "Prod A    55000\n",
       "Prod B    65000\n",
       "Prod C    80000\n",
       "Prod D    90000\n",
       "dtype: int64"
      ]
     },
     "execution_count": 24,
     "metadata": {},
     "output_type": "execute_result"
    }
   ],
   "source": [
    "prices_per_catergory = pd.Series(prices_per_catergory)\n",
    "prices_per_catergory"
   ]
  },
  {
   "cell_type": "code",
   "execution_count": 25,
   "metadata": {},
   "outputs": [
    {
     "data": {
      "text/plain": [
       "Index(['Prod A', 'Prod B', 'Prod C', 'Prod D'], dtype='object')"
      ]
     },
     "execution_count": 25,
     "metadata": {},
     "output_type": "execute_result"
    }
   ],
   "source": [
    "prices_per_catergory.index"
   ]
  },
  {
   "cell_type": "code",
   "execution_count": 26,
   "metadata": {},
   "outputs": [
    {
     "data": {
      "text/plain": [
       "pandas.core.indexes.base.Index"
      ]
     },
     "execution_count": 26,
     "metadata": {},
     "output_type": "execute_result"
    }
   ],
   "source": [
    "type(prices_per_catergory.index)"
   ]
  },
  {
   "cell_type": "markdown",
   "metadata": {},
   "source": [
    "### LABEL BASED VS POSITION BASED\n"
   ]
  },
  {
   "cell_type": "code",
   "execution_count": 28,
   "metadata": {},
   "outputs": [
    {
     "data": {
      "text/plain": [
       "0    10\n",
       "1    20\n",
       "2    30\n",
       "3    40\n",
       "4    50\n",
       "dtype: int64"
      ]
     },
     "execution_count": 28,
     "metadata": {},
     "output_type": "execute_result"
    }
   ],
   "source": [
    "series_A = pd.Series([10, 20, 30, 40, 50])\n",
    "series_A"
   ]
  },
  {
   "cell_type": "code",
   "execution_count": 29,
   "metadata": {},
   "outputs": [
    {
     "data": {
      "text/plain": [
       "RangeIndex(start=0, stop=5, step=1)"
      ]
     },
     "execution_count": 29,
     "metadata": {},
     "output_type": "execute_result"
    }
   ],
   "source": [
    "series_A.index"
   ]
  },
  {
   "cell_type": "code",
   "execution_count": 32,
   "metadata": {},
   "outputs": [
    {
     "name": "stdout",
     "output_type": "stream",
     "text": [
      "Martin    8\n",
      "George    5\n",
      "dtype: int64\n"
     ]
    }
   ],
   "source": [
    "employees_work_exp = pd.Series ({\n",
    "    \"Martin\" : 8,\n",
    "    \"George\" : 5\n",
    "})\n",
    "print(employees_work_exp)"
   ]
  },
  {
   "cell_type": "code",
   "execution_count": 33,
   "metadata": {},
   "outputs": [
    {
     "name": "stdout",
     "output_type": "stream",
     "text": [
      "Index(['Martin', 'George'], dtype='object')\n"
     ]
    }
   ],
   "source": [
    "print(employees_work_exp.index)"
   ]
  },
  {
   "cell_type": "code",
   "execution_count": null,
   "metadata": {},
   "outputs": [],
   "source": []
  }
 ],
 "metadata": {
  "kernelspec": {
   "display_name": "Python 3",
   "language": "python",
   "name": "python3"
  },
  "language_info": {
   "codemirror_mode": {
    "name": "ipython",
    "version": 3
   },
   "file_extension": ".py",
   "mimetype": "text/x-python",
   "name": "python",
   "nbconvert_exporter": "python",
   "pygments_lexer": "ipython3",
   "version": "3.13.0"
  }
 },
 "nbformat": 4,
 "nbformat_minor": 2
}
