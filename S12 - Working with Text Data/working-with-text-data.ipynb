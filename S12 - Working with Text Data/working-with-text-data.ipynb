{
 "cells": [
  {
   "cell_type": "markdown",
   "metadata": {},
   "source": [
    "## Working with Text Data\n",
    "%s = string   \n",
    "%d = int   \n",
    "%.2f = float (.2 indicates how many decimal point)"
   ]
  },
  {
   "cell_type": "code",
   "execution_count": 7,
   "metadata": {},
   "outputs": [
    {
     "name": "stdout",
     "output_type": "stream",
     "text": [
      "The item is from the product category \"A\".\n"
     ]
    }
   ],
   "source": [
    "product_category = 'A'\n",
    "print('The item is from the product category \"%s\".' % product_category)\n"
   ]
  },
  {
   "cell_type": "code",
   "execution_count": 8,
   "metadata": {},
   "outputs": [
    {
     "name": "stdout",
     "output_type": "stream",
     "text": [
      "The \"Fast Cars\" shop are expecting to sell 1000 units of the new Audi model at 37500.50 per unit next year.\n"
     ]
    }
   ],
   "source": [
    "car_shop = ['Fast Cars', 'Elegant Cars']\n",
    "car_brand = ['Audi', 'Ford']\n",
    "number_of_cars_for_sale = [1000, 1200]\n",
    "price_of_model = 37500.50\n",
    "i = 0\n",
    "print('The \"%s\" shop are expecting to sell %d units of the new %s model at %.2f per unit next year.' % (car_shop[i], number_of_cars_for_sale[i], car_brand[i], price_of_model))"
   ]
  },
  {
   "cell_type": "code",
   "execution_count": 9,
   "metadata": {},
   "outputs": [
    {
     "name": "stdout",
     "output_type": "stream",
     "text": [
      "The \"Elegant Cars\" shop are expecting to sell 1200 units of the new Ford model at 37500.50 per unit next year.\n"
     ]
    }
   ],
   "source": [
    "car_shop = ['Fast Cars', 'Elegant Cars']\n",
    "car_brand = ['Audi', 'Ford']\n",
    "number_of_cars_for_sale = [1000, 1200]\n",
    "price_of_model = 37500.50\n",
    "print(\"The \\\"%s\\\" shop are expecting to sell %d units of the new %s model at %.2f per unit next year.\" % (car_shop[1], number_of_cars_for_sale[1], car_brand[1], round(price_of_model, 2)))"
   ]
  },
  {
   "cell_type": "markdown",
   "metadata": {},
   "source": [
    "## Manipulating Python Strings\n",
    "\\n - new line   \n",
    "\\t - tab     \n",
    "\\r - replace text   \n"
   ]
  },
  {
   "cell_type": "code",
   "execution_count": null,
   "metadata": {},
   "outputs": [
    {
     "name": "stdout",
     "output_type": "stream",
     "text": [
      "This product is from \n",
      "Category \"A\"\n"
     ]
    }
   ],
   "source": [
    "print ('This product is from \\nCategory \"A\"')"
   ]
  },
  {
   "cell_type": "code",
   "execution_count": 11,
   "metadata": {},
   "outputs": [
    {
     "name": "stdout",
     "output_type": "stream",
     "text": [
      "This product is from \tCategory \"A\"\n"
     ]
    }
   ],
   "source": [
    "print ('This product is from \\tCategory \"A\"')"
   ]
  },
  {
   "cell_type": "code",
   "execution_count": 15,
   "metadata": {},
   "outputs": [
    {
     "name": "stdout",
     "output_type": "stream",
     "text": [
      "Damascus Rod is from Category \"A\"\n"
     ]
    }
   ],
   "source": [
    "print ('This product is from Category \"A\"\\rDamascus Rod')"
   ]
  },
  {
   "cell_type": "code",
   "execution_count": 2,
   "metadata": {},
   "outputs": [
    {
     "name": "stdout",
     "output_type": "stream",
     "text": [
      "Current list of local car shops: \n",
      "\"Fast Cars\" \n",
      "\"Elegant Cars\"\n"
     ]
    }
   ],
   "source": [
    "car_shop = ['Fast Cars', 'Elegant Cars']\n",
    "car_brand = ['Audi', 'Ford']\n",
    "number_of_cars_for_sale = [1000, 1200]\n",
    "price_of_model = 37500.50\n",
    "\n",
    "print('Current list of local car shops: \\n\"%s\" \\n\"%s\"' % (car_shop[0], car_shop[1]))"
   ]
  },
  {
   "cell_type": "code",
   "execution_count": null,
   "metadata": {},
   "outputs": [
    {
     "name": "stdout",
     "output_type": "stream",
     "text": [
      "Category A is our best category of products.\n"
     ]
    }
   ],
   "source": [
    "print(\"Product A1 is our best category of products. \\rCategory A\")"
   ]
  },
  {
   "cell_type": "code",
   "execution_count": null,
   "metadata": {},
   "outputs": [
    {
     "name": "stdout",
     "output_type": "stream",
     "text": [
      "The \"Fast Cars\" shop are expecting to sell 1000 units of the new Audi model next year.\tThe \"Elegant Cars\" shop are expecting to sell 1200 units of the new Ford model next year.\n"
     ]
    }
   ],
   "source": [
    "car_shop = ['Fast Cars', 'Elegant Cars']\n",
    "car_brand = ['Audi', 'Ford']\n",
    "number_of_cars_for_sale = [1000, 1200]\n",
    "price_of_model = 37500.50\n",
    "\n",
    "print (f\"The \\\"%s\\\" shop are expecting to sell %d units of the new %s model next year.\\t\" % (car_shop[0], number_of_cars_for_sale[0], car_brand[0]) + \n",
    "       f\"The \\\"%s\\\" shop are expecting to sell %d units of the new %s model next year.\" % (car_shop[1], number_of_cars_for_sale[1], car_brand[1]))"
   ]
  },
  {
   "cell_type": "code",
   "execution_count": null,
   "metadata": {},
   "outputs": [],
   "source": []
  }
 ],
 "metadata": {
  "kernelspec": {
   "display_name": "Python 3",
   "language": "python",
   "name": "python3"
  },
  "language_info": {
   "codemirror_mode": {
    "name": "ipython",
    "version": 3
   },
   "file_extension": ".py",
   "mimetype": "text/x-python",
   "name": "python",
   "nbconvert_exporter": "python",
   "pygments_lexer": "ipython3",
   "version": "3.13.0"
  }
 },
 "nbformat": 4,
 "nbformat_minor": 2
}
